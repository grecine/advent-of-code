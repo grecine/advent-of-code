{
 "cells": [
  {
   "cell_type": "code",
   "execution_count": null,
   "metadata": {
    "ExecuteTime": {
     "end_time": "2022-12-02T23:35:25.166280Z",
     "start_time": "2022-12-02T23:35:24.094075Z"
    }
   },
   "outputs": [],
   "source": [
    "import numpy as np\n",
    "import os\n",
    "import time\n",
    "\n",
    "np.set_printoptions(threshold=np.inf)"
   ]
  },
  {
   "cell_type": "code",
   "execution_count": null,
   "metadata": {
    "ExecuteTime": {
     "end_time": "2022-12-02T23:35:25.170712Z",
     "start_time": "2022-12-02T23:35:25.167740Z"
    }
   },
   "outputs": [],
   "source": [
    "def input(fname):\n",
    "    fname = os.path.join(fname)\n",
    "\n",
    "    data = []\n",
    "    with open(fname) as f:\n",
    "        for line in f:\n",
    "            data.append(line.strip())\n",
    "    return data  "
   ]
  },
  {
   "cell_type": "code",
   "execution_count": null,
   "metadata": {
    "ExecuteTime": {
     "end_time": "2022-12-02T23:35:25.176371Z",
     "start_time": "2022-12-02T23:35:25.173140Z"
    }
   },
   "outputs": [],
   "source": [
    "data = input('input.txt')\n",
    "# data = input('test-input.txt')"
   ]
  },
  {
   "cell_type": "code",
   "execution_count": null,
   "metadata": {
    "ExecuteTime": {
     "end_time": "2022-12-02T23:35:25.181828Z",
     "start_time": "2022-12-02T23:35:25.177809Z"
    },
    "code_folding": [
     0,
     9
    ]
   },
   "outputs": [],
   "source": [
    "decoder1 = {\n",
    "    'A': 'Rock',\n",
    "    'B': 'Paper',\n",
    "    'C': 'Scissors',\n",
    "    'X': 'Rock',\n",
    "    'Y': 'Paper',\n",
    "    'Z': 'Scissors'\n",
    "}\n",
    "\n",
    "decoder2 = {\n",
    "    'A': 'Rock',\n",
    "    'B': 'Paper',\n",
    "    'C': 'Scissors',\n",
    "    'X': 'Lose',\n",
    "    'Y': 'Draw',\n",
    "    'Z': 'Win'\n",
    "}\n",
    "\n",
    "shape_scores = {'Rock': 1, 'Paper': 2, 'Scissors': 3}\n",
    "\n",
    "win_scores = {'Lose': 0, 'Draw': 3, 'Win': 6}"
   ]
  },
  {
   "cell_type": "code",
   "execution_count": null,
   "metadata": {
    "ExecuteTime": {
     "end_time": "2022-12-02T23:35:25.188460Z",
     "start_time": "2022-12-02T23:35:25.183754Z"
    },
    "code_folding": [
     0,
     15
    ]
   },
   "outputs": [],
   "source": [
    "def rpss(turn):\n",
    "    them = turn[0]\n",
    "    you = turn[1]\n",
    "    if you == them:\n",
    "        return 'Draw'\n",
    "    elif you == 'Rock':\n",
    "        res = 'Win' if them == 'Scissors' else 'Lose'\n",
    "        return res\n",
    "    elif you == 'Paper':\n",
    "        res = 'Win' if them == 'Rock' else 'Lose'\n",
    "        return res\n",
    "    elif you == 'Scissors':\n",
    "        res = 'Win' if them == 'Paper' else 'Lose'\n",
    "        return res\n",
    "    \n",
    "def rpss_inv(turn):\n",
    "    them = turn[0]\n",
    "    res = turn[1]\n",
    "    if res == 'Draw':\n",
    "        return them\n",
    "    elif res == 'Win':\n",
    "        if them == 'Rock': return 'Paper'\n",
    "        if them == 'Paper': return 'Scissors'\n",
    "        if them == 'Scissors': return 'Rock'\n",
    "    elif res == 'Lose':\n",
    "        if them == 'Rock': return 'Scissors'\n",
    "        if them == 'Paper': return 'Rock'\n",
    "        if them == 'Scissors': return 'Paper'"
   ]
  },
  {
   "cell_type": "code",
   "execution_count": null,
   "metadata": {
    "ExecuteTime": {
     "end_time": "2022-12-02T23:35:25.193860Z",
     "start_time": "2022-12-02T23:35:25.189963Z"
    }
   },
   "outputs": [],
   "source": [
    "guide = []\n",
    "for i in data:\n",
    "    l = tuple(i.split())\n",
    "    guide.append([decoder1[l[0]], decoder1[l[1]]])"
   ]
  },
  {
   "cell_type": "code",
   "execution_count": null,
   "metadata": {
    "ExecuteTime": {
     "end_time": "2022-12-02T23:35:25.199570Z",
     "start_time": "2022-12-02T23:35:25.195374Z"
    }
   },
   "outputs": [],
   "source": [
    "total_score = 0\n",
    "for r in guide:\n",
    "    res = rpss(r)\n",
    "    score = win_scores[res] + shape_scores[r[1]]\n",
    "    total_score += score\n",
    "#     print(r, res, score)\n",
    "print(total_score)"
   ]
  },
  {
   "cell_type": "code",
   "execution_count": null,
   "metadata": {
    "ExecuteTime": {
     "end_time": "2022-12-02T23:35:31.737417Z",
     "start_time": "2022-12-02T23:35:31.732749Z"
    }
   },
   "outputs": [],
   "source": [
    "guide = []\n",
    "for i in data:\n",
    "    l = tuple(i.split())\n",
    "    guide.append([decoder2[l[0]], decoder2[l[1]]])"
   ]
  },
  {
   "cell_type": "code",
   "execution_count": null,
   "metadata": {
    "ExecuteTime": {
     "end_time": "2022-12-02T23:35:25.248200Z",
     "start_time": "2022-12-02T23:35:25.244121Z"
    }
   },
   "outputs": [],
   "source": [
    "total_score = 0\n",
    "for r in guide:\n",
    "    res = rpss_inv(r)\n",
    "    score = win_scores[r[1]] + shape_scores[res]\n",
    "    total_score += score\n",
    "#     print(r, res, score)\n",
    "print(total_score)"
   ]
  },
  {
   "cell_type": "code",
   "execution_count": null,
   "metadata": {},
   "outputs": [],
   "source": []
  }
 ],
 "metadata": {
  "interpreter": {
   "hash": "3067ead486e059ec00ffe7555bdb889e6e264a24dc711bf108106cc7baee8d5d"
  },
  "kernelspec": {
   "display_name": "Python 3 (ipykernel)",
   "language": "python",
   "name": "python3"
  },
  "language_info": {
   "codemirror_mode": {
    "name": "ipython",
    "version": 3
   },
   "file_extension": ".py",
   "mimetype": "text/x-python",
   "name": "python",
   "nbconvert_exporter": "python",
   "pygments_lexer": "ipython3",
   "version": "3.9.7"
  },
  "varInspector": {
   "cols": {
    "lenName": 16,
    "lenType": 16,
    "lenVar": 40
   },
   "kernels_config": {
    "python": {
     "delete_cmd_postfix": "",
     "delete_cmd_prefix": "del ",
     "library": "var_list.py",
     "varRefreshCmd": "print(var_dic_list())"
    },
    "r": {
     "delete_cmd_postfix": ") ",
     "delete_cmd_prefix": "rm(",
     "library": "var_list.r",
     "varRefreshCmd": "cat(var_dic_list()) "
    }
   },
   "types_to_exclude": [
    "module",
    "function",
    "builtin_function_or_method",
    "instance",
    "_Feature"
   ],
   "window_display": false
  }
 },
 "nbformat": 4,
 "nbformat_minor": 2
}
