{
 "cells": [
  {
   "cell_type": "code",
   "execution_count": 1,
   "metadata": {},
   "outputs": [],
   "source": [
    "import pandas as pd\n"
   ]
  },
  {
   "cell_type": "code",
   "execution_count": 8,
   "metadata": {},
   "outputs": [],
   "source": [
    "# def get_commands(fname):\n",
    "fname = '2021/day03/test-input.csv'\n",
    "\n",
    "commands = []\n",
    "with open(fname) as f:\n",
    "    for line in f:\n",
    "        commands.append([l.strip() for l in line])\n",
    "\n",
    "# return commands"
   ]
  },
  {
   "cell_type": "code",
   "execution_count": 9,
   "metadata": {},
   "outputs": [
    {
     "name": "stdout",
     "output_type": "stream",
     "text": [
      "[['0', '0', '1', '0', '0', ''], ['1', '1', '1', '1', '0', ''], ['1', '0', '1', '1', '0', ''], ['1', '0', '1', '1', '1', ''], ['1', '0', '1', '0', '1', ''], ['0', '1', '1', '1', '1', ''], ['0', '0', '1', '1', '1', ''], ['1', '1', '1', '0', '0', ''], ['1', '0', '0', '0', '0', ''], ['1', '1', '0', '0', '1', ''], ['0', '0', '0', '1', '0', ''], ['0', '1', '0', '1', '0']]\n"
     ]
    }
   ],
   "source": [
    "# fname = '2021/day02/test-input.csv'\n",
    "fname = '2021/day02/input.csv'\n",
    "print(commands)"
   ]
  },
  {
   "cell_type": "code",
   "execution_count": null,
   "metadata": {},
   "outputs": [],
   "source": []
  }
 ],
 "metadata": {
  "interpreter": {
   "hash": "86f40aa846b76392de7bb59569c5c05eb6f3e741ce818a5d9ce89c0e27b7be65"
  },
  "kernelspec": {
   "display_name": "Python 3.9.7 64-bit ('covid': conda)",
   "language": "python",
   "name": "python3"
  },
  "language_info": {
   "codemirror_mode": {
    "name": "ipython",
    "version": 3
   },
   "file_extension": ".py",
   "mimetype": "text/x-python",
   "name": "python",
   "nbconvert_exporter": "python",
   "pygments_lexer": "ipython3",
   "version": "3.9.7"
  },
  "orig_nbformat": 4
 },
 "nbformat": 4,
 "nbformat_minor": 2
}
