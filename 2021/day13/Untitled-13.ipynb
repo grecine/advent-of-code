{
 "cells": [
  {
   "cell_type": "code",
   "execution_count": 3,
   "metadata": {},
   "outputs": [],
   "source": [
    "import pandas as pd\n",
    "import numpy as np\n",
    "import time\n",
    "\n",
    "np.set_printoptions(threshold=sys.maxsize)"
   ]
  },
  {
   "cell_type": "code",
   "execution_count": 4,
   "metadata": {},
   "outputs": [],
   "source": [
    "def input(fname):\n",
    "    data = []\n",
    "    with open(fname) as f:\n",
    "        for line in f:\n",
    "            data.append(line.strip())\n",
    "    return data        "
   ]
  },
  {
   "cell_type": "code",
   "execution_count": 5,
   "metadata": {},
   "outputs": [],
   "source": [
    "# dots = input('test-input.txt')\n",
    "dots = input('input.txt')\n",
    "\n",
    "sep = dots.index('')\n",
    "folds = [d.split(' ')[2] for d in dots[sep+1:]]\n",
    "folds = [d.split('=') for d in folds]\n",
    "# folds = [(d.replace('=',' ')).split(' ')[2:4] for d in dots[sep+1:]]\n",
    "dots = np.array([list(map(int, d.split(','))) for d in dots[0:sep]])\n",
    "\n",
    "x_max, y_max = max(dots[:,0]), max(dots[:,1])\n",
    "paper = np.full((x_max+1,y_max+1),0)\n",
    "for d in dots:\n",
    "    paper[tuple(d)] = 1"
   ]
  },
  {
   "cell_type": "code",
   "execution_count": 24,
   "metadata": {},
   "outputs": [
    {
     "name": "stdout",
     "output_type": "stream",
     "text": [
      "# axis num dots shape\n",
      "0 x 655 95 (40, 6)\n",
      "1 y 447 95 (40, 6)\n",
      "2 x 327 95 (40, 6)\n",
      "3 y 223 95 (40, 6)\n",
      "4 x 163 95 (40, 6)\n",
      "5 y 111 95 (40, 6)\n",
      "6 x 81 95 (40, 6)\n",
      "7 y 55 95 (40, 6)\n",
      "8 x 40 95 (40, 6)\n",
      "9 y 27 95 (40, 6)\n",
      "10 y 13 95 (40, 6)\n",
      "11 y 6 95 (40, 6)\n",
      "  ## ###  ####  ##  #  #  ##  #  # ###  \n",
      "   # #  #    # #  # #  # #  # #  # #  # \n",
      "   # #  #   #  #    #  # #  # #  # #  # \n",
      "   # ###   #   #    #  # #### #  # ###  \n",
      "#  # #    #    #  # #  # #  # #  # # #  \n",
      " ##  #    ####  ##   ##  #  #  ##  #  # \n"
     ]
    }
   ],
   "source": [
    "def fold_y(A, f):\n",
    "    max_size = A.shape[1]\n",
    "\n",
    "    # split\n",
    "    x_new = A[:,:f]\n",
    "    for i in range(f+1,max_size):\n",
    "        x_new[:,2*f-i] = paper[:,i] | paper[:,2*f-i]\n",
    "\n",
    "    return x_new\n",
    "\n",
    "def fold_x(A,f):\n",
    "    max_size = A.shape[0]\n",
    "\n",
    "    # split\n",
    "    y_new = A[:f,:]\n",
    "    for i in range(f+1,max_size):\n",
    "        y_new[2*f-i,:] = A[i,:] | A[2*f-i,:]\n",
    "\n",
    "    return y_new\n",
    "\n",
    "i = 0\n",
    "print('#', 'axis', 'num', 'dots', 'shape')\n",
    "for fold in folds:\n",
    "    fold_type = fold[0]\n",
    "    fold_num = int(fold[1])\n",
    "    fold_op = fold_x if fold_type=='x' else fold_y\n",
    "    \n",
    "    paper = fold_op(paper, fold_num)\n",
    "    print(i, fold_type, fold_num,  paper.sum(), paper.shape)\n",
    "    i += 1\n",
    "\n",
    "for line in paper.T:\n",
    "    print(''.join([str(l).replace('0',' ').replace('1','#') for l in line]))"
   ]
  }
 ],
 "metadata": {
  "interpreter": {
   "hash": "86f40aa846b76392de7bb59569c5c05eb6f3e741ce818a5d9ce89c0e27b7be65"
  },
  "kernelspec": {
   "display_name": "Python 3.9.7 64-bit ('covid': conda)",
   "language": "python",
   "name": "python3"
  },
  "language_info": {
   "codemirror_mode": {
    "name": "ipython",
    "version": 3
   },
   "file_extension": ".py",
   "mimetype": "text/x-python",
   "name": "python",
   "nbconvert_exporter": "python",
   "pygments_lexer": "ipython3",
   "version": "3.7.6"
  },
  "orig_nbformat": 4
 },
 "nbformat": 4,
 "nbformat_minor": 2
}
