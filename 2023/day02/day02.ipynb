{
 "cells": [
  {
   "cell_type": "code",
   "execution_count": 1,
   "metadata": {
    "ExecuteTime": {
     "end_time": "2023-12-02T19:50:54.628492Z",
     "start_time": "2023-12-02T19:50:53.116061Z"
    }
   },
   "outputs": [],
   "source": [
    "import numpy as np\n",
    "import os\n",
    "import time\n",
    "\n",
    "np.set_printoptions(threshold=np.inf)"
   ]
  },
  {
   "cell_type": "code",
   "execution_count": 2,
   "metadata": {
    "ExecuteTime": {
     "end_time": "2023-12-02T19:50:54.634325Z",
     "start_time": "2023-12-02T19:50:54.630437Z"
    }
   },
   "outputs": [],
   "source": [
    "def input(fname):\n",
    "    fname = os.path.join(fname)\n",
    "\n",
    "    data = []\n",
    "    with open(fname) as f:\n",
    "        for line in f:\n",
    "            data.append(line.strip())\n",
    "    return data  "
   ]
  },
  {
   "cell_type": "code",
   "execution_count": 3,
   "metadata": {
    "ExecuteTime": {
     "end_time": "2023-12-02T19:50:54.640950Z",
     "start_time": "2023-12-02T19:50:54.638077Z"
    }
   },
   "outputs": [],
   "source": [
    "data = input('input.txt')\n",
    "# data = input('test-input.txt')"
   ]
  },
  {
   "cell_type": "code",
   "execution_count": 4,
   "metadata": {
    "ExecuteTime": {
     "end_time": "2023-12-02T19:50:54.645758Z",
     "start_time": "2023-12-02T19:50:54.643125Z"
    }
   },
   "outputs": [],
   "source": [
    "# data"
   ]
  },
  {
   "cell_type": "code",
   "execution_count": 5,
   "metadata": {
    "ExecuteTime": {
     "end_time": "2023-12-02T19:50:54.657879Z",
     "start_time": "2023-12-02T19:50:54.648083Z"
    },
    "scrolled": false
   },
   "outputs": [
    {
     "name": "stdout",
     "output_type": "stream",
     "text": [
      "2239\n"
     ]
    }
   ],
   "source": [
    "max_cubes = {'red': 12, 'green': 13, 'blue': 14}\n",
    "possible = []\n",
    "for game in data:\n",
    "    num, turns = game.split(':')[0], game.split(':')[1]\n",
    "    num = int(num.split(' ')[-1])\n",
    "    turns = [{y.split(' ')[2]: int(y.split(' ')[1]) for y in x.split(',') } for x in turns.split(';')]\n",
    "#     print(f\"Game #{num}\")\n",
    "    possible.append(num)\n",
    "    i = 0\n",
    "    for balls in turns:\n",
    "        imp = True if True in [balls[c]>max_cubes[c] for c in balls] else False\n",
    "        if (num in possible) and imp:\n",
    "            possible.remove(num)\n",
    "#         print(f\"\\tRound {i+1} {imp}: {balls}\")\n",
    "        i += 1\n",
    "    \n",
    "# print(possible)\n",
    "print(np.sum(possible))"
   ]
  },
  {
   "cell_type": "code",
   "execution_count": 6,
   "metadata": {
    "ExecuteTime": {
     "end_time": "2023-12-02T19:50:54.670613Z",
     "start_time": "2023-12-02T19:50:54.659986Z"
    }
   },
   "outputs": [
    {
     "name": "stdout",
     "output_type": "stream",
     "text": [
      "83435\n"
     ]
    }
   ],
   "source": [
    "powers = []\n",
    "for game in data:\n",
    "    num, turns = game.split(':')[0], game.split(':')[1]\n",
    "    num = int(num.split(' ')[-1])\n",
    "    turns = [{y.split(' ')[2]: int(y.split(' ')[1]) for y in x.split(',') } for x in turns.split(';')]\n",
    "#     print(f\"Game #{num}\")\n",
    "    possible.append(num)\n",
    "    i = 0\n",
    "    max_red = max_green = max_blue = 0\n",
    "    for balls in turns:\n",
    "        max_red = max(max_red, balls['red']) if 'red' in balls else max_red\n",
    "        max_green = max(max_green, balls['green']) if 'green' in balls else max_green\n",
    "        max_blue = max(max_blue, balls['blue']) if 'blue' in balls else max_blue\n",
    "#         print(f\"\\tRound {i+1} {imp}: {balls}\")\n",
    "        i += 1\n",
    "#     print(f\"Red, Green, Blue: {max_red}, {max_green}, {max_blue}\")\n",
    "    power = max_red * max_green * max_blue\n",
    "    powers.append(power)\n",
    "#     print(f\"Power: {power}\")\n",
    "    \n",
    "# print(powers)\n",
    "print(np.sum(powers))"
   ]
  },
  {
   "cell_type": "code",
   "execution_count": null,
   "metadata": {},
   "outputs": [],
   "source": []
  }
 ],
 "metadata": {
  "interpreter": {
   "hash": "3067ead486e059ec00ffe7555bdb889e6e264a24dc711bf108106cc7baee8d5d"
  },
  "kernelspec": {
   "display_name": "Python 3 (ipykernel)",
   "language": "python",
   "name": "python3"
  },
  "language_info": {
   "codemirror_mode": {
    "name": "ipython",
    "version": 3
   },
   "file_extension": ".py",
   "mimetype": "text/x-python",
   "name": "python",
   "nbconvert_exporter": "python",
   "pygments_lexer": "ipython3",
   "version": "3.9.7"
  },
  "varInspector": {
   "cols": {
    "lenName": 16,
    "lenType": 16,
    "lenVar": 40
   },
   "kernels_config": {
    "python": {
     "delete_cmd_postfix": "",
     "delete_cmd_prefix": "del ",
     "library": "var_list.py",
     "varRefreshCmd": "print(var_dic_list())"
    },
    "r": {
     "delete_cmd_postfix": ") ",
     "delete_cmd_prefix": "rm(",
     "library": "var_list.r",
     "varRefreshCmd": "cat(var_dic_list()) "
    }
   },
   "types_to_exclude": [
    "module",
    "function",
    "builtin_function_or_method",
    "instance",
    "_Feature"
   ],
   "window_display": false
  }
 },
 "nbformat": 4,
 "nbformat_minor": 2
}
