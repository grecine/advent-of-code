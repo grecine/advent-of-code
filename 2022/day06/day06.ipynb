{
 "cells": [
  {
   "cell_type": "code",
   "execution_count": 2,
   "metadata": {
    "ExecuteTime": {
     "end_time": "2022-12-06T23:24:37.083170Z",
     "start_time": "2022-12-06T23:24:37.079753Z"
    }
   },
   "outputs": [],
   "source": [
    "import numpy as np\n",
    "import os\n",
    "import time\n",
    "\n",
    "np.set_printoptions(threshold=np.inf)"
   ]
  },
  {
   "cell_type": "code",
   "execution_count": 3,
   "metadata": {
    "ExecuteTime": {
     "end_time": "2022-12-06T23:24:44.722008Z",
     "start_time": "2022-12-06T23:24:44.718903Z"
    }
   },
   "outputs": [],
   "source": [
    "def input(fname):\n",
    "    fname = os.path.join(fname)\n",
    "\n",
    "    data = []\n",
    "    with open(fname) as f:\n",
    "        for line in f:\n",
    "            data.append(line.strip())\n",
    "    return data  "
   ]
  },
  {
   "cell_type": "code",
   "execution_count": 52,
   "metadata": {
    "ExecuteTime": {
     "end_time": "2022-12-07T19:32:27.885996Z",
     "start_time": "2022-12-07T19:32:27.883025Z"
    }
   },
   "outputs": [],
   "source": [
    "data = input('input.txt')[0]\n",
    "# data = input('test-input.txt')"
   ]
  },
  {
   "cell_type": "code",
   "execution_count": 42,
   "metadata": {
    "ExecuteTime": {
     "end_time": "2022-12-07T19:28:01.173368Z",
     "start_time": "2022-12-07T19:28:01.171157Z"
    }
   },
   "outputs": [],
   "source": [
    "data = 'mjqjpqmgbljsphdztnvjfqwrcgsmlb'      #: first marker after character 7\n",
    "# data = 'bvwbjplbgvbhsrlpgdmjqwftvncz'      #: first marker after character 5\n",
    "# data = 'nppdvjthqldpwncqszvftbrmjlhg'      #: first marker after character 6\n",
    "# data = 'nznrnfrfntjfmvfwmzdfjlvtqnbhcprsg' #: first marker after character 10\n",
    "# data = 'zcfzfwzzqfrljwzlrfnpqdbhtmscgvjw'  #: first marker after character 11"
   ]
  },
  {
   "cell_type": "code",
   "execution_count": 53,
   "metadata": {
    "ExecuteTime": {
     "end_time": "2022-12-07T19:32:30.608648Z",
     "start_time": "2022-12-07T19:32:30.604059Z"
    }
   },
   "outputs": [
    {
     "name": "stdout",
     "output_type": "stream",
     "text": [
      "1034\n"
     ]
    }
   ],
   "source": [
    "for i in range(len(data)-3):\n",
    "#     print(data[i:i+4], set(data[i:i+4]))\n",
    "    if len(set(data[i:i+4]))==4:\n",
    "        break\n",
    "print(i+4)\n",
    "msg = data[i+7:]"
   ]
  },
  {
   "cell_type": "code",
   "execution_count": 54,
   "metadata": {
    "ExecuteTime": {
     "end_time": "2022-12-07T19:32:31.264151Z",
     "start_time": "2022-12-07T19:32:31.258660Z"
    }
   },
   "outputs": [
    {
     "name": "stdout",
     "output_type": "stream",
     "text": [
      "2472\n"
     ]
    }
   ],
   "source": [
    "for i in range(len(data)-13):\n",
    "#     print(data[i:i+14], set(data[i:i+14]))\n",
    "    if len(set(data[i:i+14]))==14:\n",
    "        print(i+14)\n",
    "        break"
   ]
  },
  {
   "cell_type": "code",
   "execution_count": null,
   "metadata": {},
   "outputs": [],
   "source": []
  }
 ],
 "metadata": {
  "interpreter": {
   "hash": "3067ead486e059ec00ffe7555bdb889e6e264a24dc711bf108106cc7baee8d5d"
  },
  "kernelspec": {
   "display_name": "Python 3 (ipykernel)",
   "language": "python",
   "name": "python3"
  },
  "language_info": {
   "codemirror_mode": {
    "name": "ipython",
    "version": 3
   },
   "file_extension": ".py",
   "mimetype": "text/x-python",
   "name": "python",
   "nbconvert_exporter": "python",
   "pygments_lexer": "ipython3",
   "version": "3.9.7"
  },
  "varInspector": {
   "cols": {
    "lenName": 16,
    "lenType": 16,
    "lenVar": 40
   },
   "kernels_config": {
    "python": {
     "delete_cmd_postfix": "",
     "delete_cmd_prefix": "del ",
     "library": "var_list.py",
     "varRefreshCmd": "print(var_dic_list())"
    },
    "r": {
     "delete_cmd_postfix": ") ",
     "delete_cmd_prefix": "rm(",
     "library": "var_list.r",
     "varRefreshCmd": "cat(var_dic_list()) "
    }
   },
   "types_to_exclude": [
    "module",
    "function",
    "builtin_function_or_method",
    "instance",
    "_Feature"
   ],
   "window_display": false
  }
 },
 "nbformat": 4,
 "nbformat_minor": 2
}
