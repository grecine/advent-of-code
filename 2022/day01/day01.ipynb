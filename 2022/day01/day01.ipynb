{
 "cells": [
  {
   "cell_type": "code",
   "execution_count": 1,
   "metadata": {
    "ExecuteTime": {
     "end_time": "2022-12-01T20:28:44.991161Z",
     "start_time": "2022-12-01T20:28:43.916958Z"
    }
   },
   "outputs": [],
   "source": [
    "import numpy as np\n",
    "import os\n",
    "import time\n",
    "\n",
    "np.set_printoptions(threshold=np.inf)"
   ]
  },
  {
   "cell_type": "code",
   "execution_count": 2,
   "metadata": {
    "ExecuteTime": {
     "end_time": "2022-12-01T20:28:44.996137Z",
     "start_time": "2022-12-01T20:28:44.993193Z"
    }
   },
   "outputs": [],
   "source": [
    "def input(fname):\n",
    "    fname = os.path.join(fname)\n",
    "\n",
    "    data = []\n",
    "    with open(fname) as f:\n",
    "        for line in f:\n",
    "            data.append(line.strip())\n",
    "    return data  "
   ]
  },
  {
   "cell_type": "code",
   "execution_count": 3,
   "metadata": {
    "ExecuteTime": {
     "end_time": "2022-12-01T20:28:45.001769Z",
     "start_time": "2022-12-01T20:28:44.998550Z"
    }
   },
   "outputs": [],
   "source": [
    "data = input('input.txt')\n",
    "# data = input('test-input.txt')"
   ]
  },
  {
   "cell_type": "code",
   "execution_count": 4,
   "metadata": {
    "ExecuteTime": {
     "end_time": "2022-12-01T20:28:45.007453Z",
     "start_time": "2022-12-01T20:28:45.003168Z"
    }
   },
   "outputs": [],
   "source": [
    "elf_calories = []\n",
    "el = []\n",
    "for line in data:\n",
    "    l = line.strip()\n",
    "    if l == '':\n",
    "        elf_calories.append(el)\n",
    "        el = []\n",
    "    else:\n",
    "        el.append(int(l))"
   ]
  },
  {
   "cell_type": "code",
   "execution_count": 5,
   "metadata": {
    "ExecuteTime": {
     "end_time": "2022-12-01T20:28:45.011672Z",
     "start_time": "2022-12-01T20:28:45.009137Z"
    }
   },
   "outputs": [],
   "source": [
    "elf_sum = [sum(e) for e in elf_calories]\n",
    "elf_sum.sort()"
   ]
  },
  {
   "cell_type": "code",
   "execution_count": 6,
   "metadata": {
    "ExecuteTime": {
     "end_time": "2022-12-01T20:28:45.015663Z",
     "start_time": "2022-12-01T20:28:45.013099Z"
    }
   },
   "outputs": [],
   "source": [
    "top_3 = [elf_sum[len(elf_sum)-(i+1)] for i in range(3)]"
   ]
  },
  {
   "cell_type": "code",
   "execution_count": 7,
   "metadata": {
    "ExecuteTime": {
     "end_time": "2022-12-01T20:28:45.019039Z",
     "start_time": "2022-12-01T20:28:45.016951Z"
    }
   },
   "outputs": [],
   "source": [
    "ans1 = top_3[0]\n",
    "ans2 = sum(top_3)"
   ]
  },
  {
   "cell_type": "code",
   "execution_count": 8,
   "metadata": {
    "ExecuteTime": {
     "end_time": "2022-12-01T20:28:45.028434Z",
     "start_time": "2022-12-01T20:28:45.020370Z"
    }
   },
   "outputs": [
    {
     "data": {
      "text/plain": [
       "72718"
      ]
     },
     "execution_count": 8,
     "metadata": {},
     "output_type": "execute_result"
    }
   ],
   "source": [
    "ans1"
   ]
  },
  {
   "cell_type": "code",
   "execution_count": 9,
   "metadata": {
    "ExecuteTime": {
     "end_time": "2022-12-01T20:28:45.033042Z",
     "start_time": "2022-12-01T20:28:45.030083Z"
    }
   },
   "outputs": [
    {
     "data": {
      "text/plain": [
       "213089"
      ]
     },
     "execution_count": 9,
     "metadata": {},
     "output_type": "execute_result"
    }
   ],
   "source": [
    "ans2"
   ]
  },
  {
   "cell_type": "code",
   "execution_count": null,
   "metadata": {},
   "outputs": [],
   "source": []
  }
 ],
 "metadata": {
  "interpreter": {
   "hash": "3067ead486e059ec00ffe7555bdb889e6e264a24dc711bf108106cc7baee8d5d"
  },
  "kernelspec": {
   "display_name": "Python 3 (ipykernel)",
   "language": "python",
   "name": "python3"
  },
  "language_info": {
   "codemirror_mode": {
    "name": "ipython",
    "version": 3
   },
   "file_extension": ".py",
   "mimetype": "text/x-python",
   "name": "python",
   "nbconvert_exporter": "python",
   "pygments_lexer": "ipython3",
   "version": "3.9.7"
  },
  "varInspector": {
   "cols": {
    "lenName": 16,
    "lenType": 16,
    "lenVar": 40
   },
   "kernels_config": {
    "python": {
     "delete_cmd_postfix": "",
     "delete_cmd_prefix": "del ",
     "library": "var_list.py",
     "varRefreshCmd": "print(var_dic_list())"
    },
    "r": {
     "delete_cmd_postfix": ") ",
     "delete_cmd_prefix": "rm(",
     "library": "var_list.r",
     "varRefreshCmd": "cat(var_dic_list()) "
    }
   },
   "types_to_exclude": [
    "module",
    "function",
    "builtin_function_or_method",
    "instance",
    "_Feature"
   ],
   "window_display": false
  }
 },
 "nbformat": 4,
 "nbformat_minor": 2
}
