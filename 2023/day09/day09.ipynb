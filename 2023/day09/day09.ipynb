{
 "cells": [
  {
   "cell_type": "code",
   "execution_count": 1,
   "metadata": {
    "ExecuteTime": {
     "end_time": "2023-12-09T16:33:21.104970Z",
     "start_time": "2023-12-09T16:33:18.693111Z"
    }
   },
   "outputs": [],
   "source": [
    "import numpy as np\n",
    "import pandas as pd\n",
    "import os\n",
    "import time\n",
    "\n",
    "np.set_printoptions(threshold=np.inf)"
   ]
  },
  {
   "cell_type": "code",
   "execution_count": 2,
   "metadata": {
    "ExecuteTime": {
     "end_time": "2023-12-09T16:33:21.112296Z",
     "start_time": "2023-12-09T16:33:21.108596Z"
    }
   },
   "outputs": [],
   "source": [
    "def input(fname):\n",
    "    fname = os.path.join(fname)\n",
    "\n",
    "    data = []\n",
    "    with open(fname) as f:\n",
    "        for line in f:\n",
    "            data.append(line.strip())\n",
    "    return data  "
   ]
  },
  {
   "cell_type": "code",
   "execution_count": 3,
   "metadata": {
    "ExecuteTime": {
     "end_time": "2023-12-09T16:33:21.118860Z",
     "start_time": "2023-12-09T16:33:21.114600Z"
    }
   },
   "outputs": [],
   "source": [
    "data = input('input.txt') ## 1993300164\n",
    "# data = input('test-input.txt')"
   ]
  },
  {
   "cell_type": "code",
   "execution_count": 4,
   "metadata": {
    "ExecuteTime": {
     "end_time": "2023-12-09T16:33:21.125771Z",
     "start_time": "2023-12-09T16:33:21.120966Z"
    }
   },
   "outputs": [],
   "source": [
    "series = [list(map(int, data[n].split())) for n in range(len(data))]"
   ]
  },
  {
   "cell_type": "code",
   "execution_count": 5,
   "metadata": {
    "ExecuteTime": {
     "end_time": "2023-12-09T16:33:21.136703Z",
     "start_time": "2023-12-09T16:33:21.127948Z"
    },
    "code_folding": [
     0,
     22
    ]
   },
   "outputs": [],
   "source": [
    "def get_next(hist):\n",
    "    hist = [hist.copy()]\n",
    "    \n",
    "#     print('='*50)\n",
    "    \n",
    "    while set(hist[-1]) != {0}:\n",
    "        s = list(np.diff(hist[-1]))\n",
    "        hist += [s]\n",
    "    \n",
    "#     print('\\n'.join(str(x) for x in hist))\n",
    "#     print('-'*50)\n",
    "    \n",
    "    n = len(series[0])-len(s)+1\n",
    "    hist[-1].append(0)\n",
    "    for i in range(len(hist)-1):\n",
    "        step = n-i-1\n",
    "        hist[step-1].append(hist[step][-1] + hist[step-1][-1])\n",
    "#         print(f'{step}: {hist[step]}')\n",
    "#     print(f'0: {hist[0]}')\n",
    "    \n",
    "    return hist[0][-1]\n",
    "\n",
    "def get_prev(hist):\n",
    "    hist = [hist.copy()]\n",
    "    \n",
    "#     print('='*50)\n",
    "\n",
    "    while set(hist[-1]) != {0}:\n",
    "        s = list(np.diff(hist[-1]))\n",
    "        hist += [s]\n",
    "    \n",
    "#     print('\\n'.join(str(x) for x in hist))\n",
    "#     print('-'*50)\n",
    "    \n",
    "    n = len(series[0])-len(s)+1\n",
    "    hist[-1] = [0] + hist[-1]\n",
    "    for i in range(len(hist)-1):\n",
    "        step = n-i-1\n",
    "        hist[step-1] = [-hist[step][0] + hist[step-1][0]] + hist[step-1]\n",
    "#         print(f'{step}: {hist[step]}')\n",
    "#     print(f'0: {hist[0]}')\n",
    "    \n",
    "    return hist[0][0]"
   ]
  },
  {
   "cell_type": "code",
   "execution_count": 6,
   "metadata": {
    "ExecuteTime": {
     "end_time": "2023-12-09T16:33:21.176780Z",
     "start_time": "2023-12-09T16:33:21.138599Z"
    },
    "scrolled": false
   },
   "outputs": [
    {
     "data": {
      "text/plain": [
       "1993300041"
      ]
     },
     "execution_count": 6,
     "metadata": {},
     "output_type": "execute_result"
    }
   ],
   "source": [
    "sum([get_next(x) for x in series])"
   ]
  },
  {
   "cell_type": "code",
   "execution_count": 7,
   "metadata": {
    "ExecuteTime": {
     "end_time": "2023-12-09T16:33:21.210937Z",
     "start_time": "2023-12-09T16:33:21.178953Z"
    }
   },
   "outputs": [
    {
     "data": {
      "text/plain": [
       "1038"
      ]
     },
     "execution_count": 7,
     "metadata": {},
     "output_type": "execute_result"
    }
   ],
   "source": [
    "sum([get_prev(x) for x in series])"
   ]
  },
  {
   "cell_type": "code",
   "execution_count": null,
   "metadata": {},
   "outputs": [],
   "source": []
  }
 ],
 "metadata": {
  "interpreter": {
   "hash": "3067ead486e059ec00ffe7555bdb889e6e264a24dc711bf108106cc7baee8d5d"
  },
  "kernelspec": {
   "display_name": "Python 3 (ipykernel)",
   "language": "python",
   "name": "python3"
  },
  "language_info": {
   "codemirror_mode": {
    "name": "ipython",
    "version": 3
   },
   "file_extension": ".py",
   "mimetype": "text/x-python",
   "name": "python",
   "nbconvert_exporter": "python",
   "pygments_lexer": "ipython3",
   "version": "3.9.7"
  },
  "varInspector": {
   "cols": {
    "lenName": 16,
    "lenType": 16,
    "lenVar": 40
   },
   "kernels_config": {
    "python": {
     "delete_cmd_postfix": "",
     "delete_cmd_prefix": "del ",
     "library": "var_list.py",
     "varRefreshCmd": "print(var_dic_list())"
    },
    "r": {
     "delete_cmd_postfix": ") ",
     "delete_cmd_prefix": "rm(",
     "library": "var_list.r",
     "varRefreshCmd": "cat(var_dic_list()) "
    }
   },
   "types_to_exclude": [
    "module",
    "function",
    "builtin_function_or_method",
    "instance",
    "_Feature"
   ],
   "window_display": false
  }
 },
 "nbformat": 4,
 "nbformat_minor": 2
}
