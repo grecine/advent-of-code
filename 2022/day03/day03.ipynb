{
 "cells": [
  {
   "cell_type": "code",
   "execution_count": 1,
   "metadata": {
    "ExecuteTime": {
     "end_time": "2022-12-03T16:06:03.617889Z",
     "start_time": "2022-12-03T16:06:02.004944Z"
    }
   },
   "outputs": [],
   "source": [
    "import numpy as np\n",
    "import os\n",
    "import time\n",
    "\n",
    "np.set_printoptions(threshold=np.inf)"
   ]
  },
  {
   "cell_type": "code",
   "execution_count": 2,
   "metadata": {
    "ExecuteTime": {
     "end_time": "2022-12-03T16:06:03.623900Z",
     "start_time": "2022-12-03T16:06:03.619909Z"
    }
   },
   "outputs": [],
   "source": [
    "def input(fname):\n",
    "    fname = os.path.join(fname)\n",
    "\n",
    "    data = []\n",
    "    with open(fname) as f:\n",
    "        for line in f:\n",
    "            data.append(line.strip())\n",
    "    return data  "
   ]
  },
  {
   "cell_type": "code",
   "execution_count": 3,
   "metadata": {
    "ExecuteTime": {
     "end_time": "2022-12-03T16:06:03.631275Z",
     "start_time": "2022-12-03T16:06:03.627522Z"
    }
   },
   "outputs": [],
   "source": [
    "data = input('input.txt')\n",
    "# data = input('test-input.txt')"
   ]
  },
  {
   "cell_type": "code",
   "execution_count": 4,
   "metadata": {
    "ExecuteTime": {
     "end_time": "2022-12-03T16:06:03.636545Z",
     "start_time": "2022-12-03T16:06:03.633397Z"
    }
   },
   "outputs": [],
   "source": [
    "def char2val(c):\n",
    "    lowercase_origin=96\n",
    "    uppercase_origin=38\n",
    "    if c.isupper():\n",
    "        return ord(c) - uppercase_origin\n",
    "    else:\n",
    "        return ord(c) - lowercase_origin"
   ]
  },
  {
   "cell_type": "code",
   "execution_count": 5,
   "metadata": {
    "ExecuteTime": {
     "end_time": "2022-12-03T16:06:03.641058Z",
     "start_time": "2022-12-03T16:06:03.638630Z"
    }
   },
   "outputs": [],
   "source": [
    "# data"
   ]
  },
  {
   "cell_type": "code",
   "execution_count": 6,
   "metadata": {
    "ExecuteTime": {
     "end_time": "2022-12-03T16:06:03.650944Z",
     "start_time": "2022-12-03T16:06:03.643239Z"
    },
    "scrolled": false
   },
   "outputs": [
    {
     "name": "stdout",
     "output_type": "stream",
     "text": [
      "7967\n"
     ]
    }
   ],
   "source": [
    "# PART 1\n",
    "\n",
    "pri_sum = 0\n",
    "for sack in data:\n",
    "    c1 = sack[0:int(0.5*len(sack))]\n",
    "    c2 = sack[int(0.5*len(sack)):len(sack)]\n",
    "    common = set(c1) & (set(c2))\n",
    "    priority = char2val(list(common)[0])\n",
    "    pri_sum += priority\n",
    "#     print(common, priority)\n",
    "print(pri_sum)"
   ]
  },
  {
   "cell_type": "code",
   "execution_count": 7,
   "metadata": {
    "ExecuteTime": {
     "end_time": "2022-12-03T16:06:03.660368Z",
     "start_time": "2022-12-03T16:06:03.653154Z"
    }
   },
   "outputs": [
    {
     "name": "stdout",
     "output_type": "stream",
     "text": [
      "2716\n"
     ]
    }
   ],
   "source": [
    "# PART 2\n",
    "\n",
    "n_groups = int(len(data)/3)\n",
    "pri_sum = 0\n",
    "for i in range(n_groups):\n",
    "    badge = set(data[i*3]) & set(data[i*3+1]) & set(data[i*3+2])\n",
    "    priority = char2val(list(badge)[0])\n",
    "    pri_sum += priority\n",
    "#     print(badge)\n",
    "print(pri_sum)"
   ]
  },
  {
   "cell_type": "code",
   "execution_count": null,
   "metadata": {},
   "outputs": [],
   "source": []
  }
 ],
 "metadata": {
  "interpreter": {
   "hash": "3067ead486e059ec00ffe7555bdb889e6e264a24dc711bf108106cc7baee8d5d"
  },
  "kernelspec": {
   "display_name": "Python 3 (ipykernel)",
   "language": "python",
   "name": "python3"
  },
  "language_info": {
   "codemirror_mode": {
    "name": "ipython",
    "version": 3
   },
   "file_extension": ".py",
   "mimetype": "text/x-python",
   "name": "python",
   "nbconvert_exporter": "python",
   "pygments_lexer": "ipython3",
   "version": "3.9.7"
  },
  "varInspector": {
   "cols": {
    "lenName": 16,
    "lenType": 16,
    "lenVar": 40
   },
   "kernels_config": {
    "python": {
     "delete_cmd_postfix": "",
     "delete_cmd_prefix": "del ",
     "library": "var_list.py",
     "varRefreshCmd": "print(var_dic_list())"
    },
    "r": {
     "delete_cmd_postfix": ") ",
     "delete_cmd_prefix": "rm(",
     "library": "var_list.r",
     "varRefreshCmd": "cat(var_dic_list()) "
    }
   },
   "types_to_exclude": [
    "module",
    "function",
    "builtin_function_or_method",
    "instance",
    "_Feature"
   ],
   "window_display": false
  }
 },
 "nbformat": 4,
 "nbformat_minor": 2
}
