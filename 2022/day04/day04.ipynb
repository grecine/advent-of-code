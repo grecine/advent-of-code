{
 "cells": [
  {
   "cell_type": "code",
   "execution_count": 1,
   "metadata": {
    "ExecuteTime": {
     "end_time": "2022-12-05T01:05:30.465153Z",
     "start_time": "2022-12-05T01:05:30.460661Z"
    }
   },
   "outputs": [],
   "source": [
    "import numpy as np\n",
    "import os\n",
    "import time\n",
    "\n",
    "np.set_printoptions(threshold=np.inf)"
   ]
  },
  {
   "cell_type": "code",
   "execution_count": 2,
   "metadata": {
    "ExecuteTime": {
     "end_time": "2022-12-05T01:05:30.476986Z",
     "start_time": "2022-12-05T01:05:30.472899Z"
    }
   },
   "outputs": [],
   "source": [
    "def input(fname):\n",
    "    fname = os.path.join(fname)\n",
    "\n",
    "    data = []\n",
    "    with open(fname) as f:\n",
    "        for line in f:\n",
    "            data.append(line.strip())\n",
    "    return data  "
   ]
  },
  {
   "cell_type": "code",
   "execution_count": 65,
   "metadata": {
    "ExecuteTime": {
     "end_time": "2022-12-05T01:42:16.363189Z",
     "start_time": "2022-12-05T01:42:16.358994Z"
    }
   },
   "outputs": [],
   "source": [
    "data = input('input.txt')\n",
    "# data = input('test-input.txt')"
   ]
  },
  {
   "cell_type": "code",
   "execution_count": 66,
   "metadata": {
    "ExecuteTime": {
     "end_time": "2022-12-05T01:42:20.497438Z",
     "start_time": "2022-12-05T01:42:20.495054Z"
    }
   },
   "outputs": [],
   "source": [
    "# data"
   ]
  },
  {
   "cell_type": "code",
   "execution_count": 67,
   "metadata": {
    "ExecuteTime": {
     "end_time": "2022-12-05T01:42:21.431632Z",
     "start_time": "2022-12-05T01:42:21.416582Z"
    }
   },
   "outputs": [
    {
     "name": "stdout",
     "output_type": "stream",
     "text": [
      "532\n"
     ]
    }
   ],
   "source": [
    "sub_count = 0\n",
    "for pair in data:\n",
    "    elf0 = pair.split(',')[0].split('-')\n",
    "    elf1 = pair.split(',')[1].split('-')\n",
    "\n",
    "    elf0 = [i for i in range(int(elf0[0]),int(elf0[1])+1)]\n",
    "    elf1 = [i for i in range(int(elf1[0]),int(elf1[1])+1)]\n",
    "    \n",
    "    sub = set(elf0).issubset(elf1) or set(elf1).issubset(elf0)\n",
    "    sub_count = sub_count+1 if sub else sub_count\n",
    "    \n",
    "#     print(elf0 ,elf1, sub)\n",
    "#     print(pair, sub)\n",
    "print(sub_count)"
   ]
  },
  {
   "cell_type": "code",
   "execution_count": 68,
   "metadata": {
    "ExecuteTime": {
     "end_time": "2022-12-05T01:42:22.443446Z",
     "start_time": "2022-12-05T01:42:22.429372Z"
    }
   },
   "outputs": [
    {
     "name": "stdout",
     "output_type": "stream",
     "text": [
      "854\n"
     ]
    }
   ],
   "source": [
    "sub_count = 0\n",
    "for pair in data:\n",
    "    elf0 = pair.split(',')[0].split('-')\n",
    "    elf1 = pair.split(',')[1].split('-')\n",
    "\n",
    "    elf0 = [i for i in range(int(elf0[0]),int(elf0[1])+1)]\n",
    "    elf1 = [i for i in range(int(elf1[0]),int(elf1[1])+1)]\n",
    "    \n",
    "    sub = set(elf0) & set(elf1) != set()\n",
    "    sub_count = sub_count+1 if sub else sub_count\n",
    "    \n",
    "#     print(elf0 ,elf1, sub)\n",
    "#     print(pair, sub)\n",
    "print(sub_count)"
   ]
  },
  {
   "cell_type": "code",
   "execution_count": null,
   "metadata": {},
   "outputs": [],
   "source": []
  }
 ],
 "metadata": {
  "interpreter": {
   "hash": "3067ead486e059ec00ffe7555bdb889e6e264a24dc711bf108106cc7baee8d5d"
  },
  "kernelspec": {
   "display_name": "Python 3 (ipykernel)",
   "language": "python",
   "name": "python3"
  },
  "language_info": {
   "codemirror_mode": {
    "name": "ipython",
    "version": 3
   },
   "file_extension": ".py",
   "mimetype": "text/x-python",
   "name": "python",
   "nbconvert_exporter": "python",
   "pygments_lexer": "ipython3",
   "version": "3.9.7"
  },
  "varInspector": {
   "cols": {
    "lenName": 16,
    "lenType": 16,
    "lenVar": 40
   },
   "kernels_config": {
    "python": {
     "delete_cmd_postfix": "",
     "delete_cmd_prefix": "del ",
     "library": "var_list.py",
     "varRefreshCmd": "print(var_dic_list())"
    },
    "r": {
     "delete_cmd_postfix": ") ",
     "delete_cmd_prefix": "rm(",
     "library": "var_list.r",
     "varRefreshCmd": "cat(var_dic_list()) "
    }
   },
   "types_to_exclude": [
    "module",
    "function",
    "builtin_function_or_method",
    "instance",
    "_Feature"
   ],
   "window_display": false
  }
 },
 "nbformat": 4,
 "nbformat_minor": 2
}
