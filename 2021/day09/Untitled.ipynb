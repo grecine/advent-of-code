{
 "cells": [
  {
   "cell_type": "code",
   "execution_count": 1,
   "metadata": {},
   "outputs": [],
   "source": [
    "import pandas as pd\n",
    "import numpy as np"
   ]
  },
  {
   "cell_type": "code",
   "execution_count": 53,
   "metadata": {},
   "outputs": [
    {
     "data": {
      "text/plain": [
       "array([[2, 1, 9, 9, 9, 4, 3, 2, 1, 0],\n",
       "       [3, 9, 8, 7, 8, 9, 4, 9, 2, 1],\n",
       "       [9, 8, 5, 6, 7, 8, 9, 8, 9, 2],\n",
       "       [8, 7, 6, 7, 8, 9, 6, 7, 8, 9],\n",
       "       [9, 8, 9, 9, 9, 6, 5, 6, 7, 8]])"
      ]
     },
     "execution_count": 53,
     "metadata": {},
     "output_type": "execute_result"
    }
   ],
   "source": [
    "fname = 'test-input.txt'\n",
    "# fname = 'input.txt'\n",
    "\n",
    "cave = np.array(pd.read_csv(fname, sep=',', header=None))\n",
    "cave"
   ]
  },
  {
   "cell_type": "code",
   "execution_count": 153,
   "metadata": {},
   "outputs": [
    {
     "data": {
      "text/plain": [
       "array([[0, 0, 1, 1, 1, 0, 1, 1, 1, 0],\n",
       "       [0, 1, 0, 0, 0, 1, 1, 1, 1, 0],\n",
       "       [1, 0, 0, 0, 0, 0, 1, 0, 1, 0],\n",
       "       [0, 0, 0, 0, 0, 1, 0, 0, 0, 1],\n",
       "       [1, 0, 1, 1, 1, 0, 0, 0, 0, 0]])"
      ]
     },
     "execution_count": 153,
     "metadata": {},
     "output_type": "execute_result"
    }
   ],
   "source": [
    "def nearest_neighbors(a, i, j):\n",
    "    x = [i, j]\n",
    "    x_max = (a.shape[0]-1, a.shape[1]-1)\n",
    "\n",
    "    neighbors = np.array([[x[0]-1, x[1]]])\n",
    "    neighbors = np.append(neighbors, [[x[0]+1, x[1]]], axis=0)\n",
    "    neighbors = np.append(neighbors, [[x[0], x[1]-1]], axis=0)\n",
    "    neighbors = np.append(neighbors, [[x[0], x[1]+1]], axis=0)\n",
    "\n",
    "    # Fix over-boundray values\n",
    "    neighbors[np.where(neighbors<0)]=0\n",
    "    neighbors[np.where(neighbors[:,0]>x_max[0]), 0] = x_max[0]\n",
    "    neighbors[np.where(neighbors[:,1]>x_max[0]), 1] = x_max[1]\n",
    "    \n",
    "    return neighbors\n",
    "\n",
    "def low(a, i, j):\n",
    "    low_sum = 0\n",
    "    for n in nearest_neighbors(a, i, j):\n",
    "        low_sum += 1 if a[i][j] < a[n[0],n[1]] else low_sum\n",
    "        \n",
    "    low_pt = True if low_sum == 0 else False\n",
    "    return low_pt\n",
    "\n",
    "low_points = []\n",
    "diff = np.full(cave.shape, 0)\n",
    "for i in range(cave.shape[0]):\n",
    "    for j in range(cave.shape[1]):\n",
    "        diff[i][j] = low(cave,i,j)\n",
    "        if diff[i][j] == 1:\n",
    "            low_points.append((i,j))\n",
    "            \n",
    "diff"
   ]
  },
  {
   "cell_type": "code",
   "execution_count": 47,
   "metadata": {},
   "outputs": [
    {
     "name": "stdout",
     "output_type": "stream",
     "text": [
      "522\n"
     ]
    }
   ],
   "source": [
    "    \n",
    "def low(a,i,j):\n",
    "\n",
    "    if i == 0:\n",
    "        min = True if a[i+1][j] > a[i][j] else False\n",
    "    elif i == (a.shape[0]-1):\n",
    "        min = True if a[i-1][j] > a[i][j] else False\n",
    "    else:\n",
    "        min = True if ( (a[i-1][j] > a[i][j]) and \n",
    "                        (a[i+1][j] > a[i][j])     ) else False\n",
    "\n",
    "    if min:\n",
    "        if j == 0:\n",
    "            min = True if a[i][j+1] > a[i][j] else False\n",
    "        elif j == (a.shape[1]-1):\n",
    "            min = True if a[i][j-1] > a[i][j] else False\n",
    "        else:\n",
    "            min = True if ( (a[i][j+1] > a[i][j]) and\n",
    "                            (a[i][j-1] > a[i][j])     ) else False\n",
    "\n",
    "    return min   \n",
    "\n",
    "low_points = []\n",
    "diff = np.full(cave.shape, 0)\n",
    "for i in range(cave.shape[0]):\n",
    "    for j in range(cave.shape[1]):\n",
    "        diff[i][j] = low(cave,i,j)\n",
    "        if diff[i][j] == 1:\n",
    "            low_points.append((i,j))\n",
    "\n",
    "risk = ((cave+1) * diff).sum()\n",
    "\n",
    "print(risk)"
   ]
  },
  {
   "cell_type": "code",
   "execution_count": 48,
   "metadata": {},
   "outputs": [],
   "source": [
    "def flow(x_max, i0, j0, m, n, basin, cave, new_points):\n",
    "    \"\"\" i0, j0: starting coords\n",
    "        m = element i=0, j=1\n",
    "        n = increase/decrease +1|-1\n",
    "    \"\"\"\n",
    "    x = [i0,j0]\n",
    "    prev = cave[tuple(x)]\n",
    "    basin[tuple(x)]=1\n",
    "    if n >0:\n",
    "        down = False if x[m] == x_max[m] else True\n",
    "    elif n<0:\n",
    "        down = False if x[m] == 0 else True\n",
    "    while down:\n",
    "        x[m] = x[m]+n\n",
    "        curr = cave[tuple(x)]\n",
    "        down = prev < curr \n",
    "        down = False if curr == 9 else down\n",
    "        if down:\n",
    "            basin[tuple(x)] = 1\n",
    "            new_points.append(tuple(x))\n",
    "        if n >0:\n",
    "            down = False if x[m] == x_max[m] else down\n",
    "        elif n<0:\n",
    "            down = False if x[m] == 1 else down\n",
    "        prev = curr\n",
    "\n",
    "    return basin, new_points"
   ]
  },
  {
   "cell_type": "code",
   "execution_count": 49,
   "metadata": {},
   "outputs": [],
   "source": [
    "# Do one low point\n",
    "def calc_basin(cave, low_point):\n",
    "\n",
    "    basin = np.full(cave.shape, 0)\n",
    "    x_max = (cave.shape[0]-1, cave.shape[1]-1)\n",
    "    i0 = low_point[0]\n",
    "    j0 = low_point[1]\n",
    "    basin[i0,j0]=1\n",
    "    pts = [[i0,j0]]\n",
    "\n",
    "#     print('basin:',(i0,j0))\n",
    "    t = 0\n",
    "    while len(pts)>0:\n",
    "        t += 1\n",
    "        i0, j0 = pts.pop(len(pts)-1)\n",
    "        # find flow points from i0, j0\n",
    "        basin, pts = flow(x_max, i0, j0, 0, +1, basin, cave, pts) # i++\n",
    "#         print('\\t',pts1)\n",
    "        basin, pts = flow(x_max, i0, j0, 0, -1, basin, cave, pts) # i--\n",
    "#         print('\\t',pts2)\n",
    "        basin, pts = flow(x_max, i0, j0, 1, +1, basin, cave, pts) # j++\n",
    "#         print('\\t',pts3)\n",
    "        basin, pts = flow(x_max, i0, j0, 1, -1, basin, cave, pts) # i--\n",
    "#         print('\\t',pts4)\n",
    "        \n",
    "    return basin, t\n",
    "\n",
    "basins = []\n",
    "sums = []\n",
    "itr = []\n",
    "# for low_point in [low_points[2]]:\n",
    "for low_point in low_points:\n",
    "    b, t = calc_basin(cave, low_point)\n",
    "    itr.append(t)\n",
    "    basins.append(b.tolist())\n",
    "    sums.append(b.sum())\n",
    "\n",
    "# total = 1\n",
    "# sums = sorted(sums)\n",
    "# for i in [1,2,3]:\n",
    "#     total *= sums.pop()\n",
    "# print(total)"
   ]
  },
  {
   "cell_type": "code",
   "execution_count": 50,
   "metadata": {},
   "outputs": [
    {
     "name": "stdout",
     "output_type": "stream",
     "text": [
      "[   0    0   64  540    8   37  158  794  934 1069  173  790  167 1419\n",
      "   23   86   48    8 1785   43  191 1784  206  634 1429    0  375  953\n",
      "  252    7 2260    0  296    0   13  207  259    0  252    0   45  259\n",
      "  152    0  105  974  166 2278    0  463  602  319   13  822  186    4\n",
      "  551  114    4  173  422  690   14   91    0    5 3020   26  877  582\n",
      "  220 2402   18 2847 1102  807 1514   30   20    4    3   21  515 2219\n",
      "   42  241  792   23   18 2853 1248   28  153    3  341 2153    1    0\n",
      "   35  222   16  422    5  669   54   21  368    0    0 1092  202    0\n",
      "   56  650   17    9 3188   20  100 3853 1662    6    0    6 2291    1\n",
      "    4  257  159 1671  109    9    0  889 2619  247 1214   27  105  641\n",
      " 1513  270    1 3292  147   96    0  397    0    9    0    1    0    3\n",
      "  394   52    0   32    8  630 2435    8  567   18    2    1  610 1156\n",
      "    0   39  974   49   77    0 1846  614  136    0   11    5   36  478\n",
      "   10    0    2    0  921    0    4   31  201  731  291  287 1537 1681\n",
      "  234  940   42 1834    0   10  528 1697 2966   11   52  901    1  472\n",
      "    1   48    0    0   33  402 1094 2395  158  418  151  546   76 1228\n",
      "  192 1177    0    0]\n"
     ]
    }
   ],
   "source": [
    "# display(cave)\n",
    "# display(diff)\n",
    "# display(low_points)\n",
    "print(np.array(itr)-np.array(sums))\n",
    "# display(basins)"
   ]
  },
  {
   "cell_type": "code",
   "execution_count": 55,
   "metadata": {},
   "outputs": [
    {
     "data": {
      "text/plain": [
       "[2, 3]"
      ]
     },
     "execution_count": 55,
     "metadata": {},
     "output_type": "execute_result"
    }
   ],
   "source": [
    "x = [[0,1], [2,3]]\n",
    "x[-1]"
   ]
  },
  {
   "cell_type": "code",
   "execution_count": null,
   "metadata": {},
   "outputs": [],
   "source": []
  }
 ],
 "metadata": {
  "kernelspec": {
   "display_name": "Python 3",
   "language": "python",
   "name": "python3"
  },
  "language_info": {
   "codemirror_mode": {
    "name": "ipython",
    "version": 3
   },
   "file_extension": ".py",
   "mimetype": "text/x-python",
   "name": "python",
   "nbconvert_exporter": "python",
   "pygments_lexer": "ipython3",
   "version": "3.7.6"
  }
 },
 "nbformat": 4,
 "nbformat_minor": 4
}
