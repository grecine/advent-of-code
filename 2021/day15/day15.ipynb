{
 "cells": [
  {
   "cell_type": "code",
   "execution_count": 1,
   "metadata": {},
   "outputs": [],
   "source": [
    "import numpy as np\n",
    "import os\n",
    "import time\n",
    "from math import sqrt\n",
    "from pathfinding.core.diagonal_movement import DiagonalMovement\n",
    "from pathfinding.core.grid import Grid\n",
    "from pathfinding.finder.a_star import AStarFinder\n",
    "\n",
    "np.set_printoptions(threshold=np.inf)"
   ]
  },
  {
   "cell_type": "code",
   "execution_count": 2,
   "metadata": {},
   "outputs": [],
   "source": [
    "def input(fname):\n",
    "    fname = os.path.join(fname)\n",
    "\n",
    "    data = []\n",
    "    with open(fname) as f:\n",
    "        for line in f:\n",
    "            data.append(line.strip())\n",
    "    return data  "
   ]
  },
  {
   "cell_type": "code",
   "execution_count": 25,
   "metadata": {},
   "outputs": [
    {
     "name": "stdout",
     "output_type": "stream",
     "text": [
      "10\n"
     ]
    },
    {
     "data": {
      "text/plain": [
       "array([[1, 1, 6, 3, 7, 5, 1, 7, 4, 2],\n",
       "       [1, 3, 8, 1, 3, 7, 3, 6, 7, 2],\n",
       "       [2, 1, 3, 6, 5, 1, 1, 3, 2, 8],\n",
       "       [3, 6, 9, 4, 9, 3, 1, 5, 6, 9],\n",
       "       [7, 4, 6, 3, 4, 1, 7, 1, 1, 1],\n",
       "       [1, 3, 1, 9, 1, 2, 8, 1, 3, 7],\n",
       "       [1, 3, 5, 9, 9, 1, 2, 4, 2, 1],\n",
       "       [3, 1, 2, 5, 4, 2, 1, 6, 3, 9],\n",
       "       [1, 2, 9, 3, 1, 3, 8, 5, 2, 1],\n",
       "       [2, 3, 1, 1, 9, 4, 4, 5, 8, 1]])"
      ]
     },
     "execution_count": 25,
     "metadata": {},
     "output_type": "execute_result"
    }
   ],
   "source": [
    "# risk_map = input('input.txt')\n",
    "risk_map = input('test-input.txt')\n",
    "risk_map = np.array([[int(i) for i in d] for d in risk_map])\n",
    "print(len(risk_map))\n",
    "risk_map"
   ]
  },
  {
   "cell_type": "code",
   "execution_count": 44,
   "metadata": {},
   "outputs": [],
   "source": [
    "class Node:\n",
    "    def __init__(self, parent=None, x=None, val=None):\n",
    "        self.parent = parent\n",
    "        self.x = x\n",
    "        self.val = val\n",
    "\n",
    "        self.g = 0\n",
    "        self.h = 0\n",
    "        self.f = 0\n",
    "\n",
    "class AStarPathFinder:\n",
    "    \"\"\"square grid only right now\"\"\"\n",
    "    def __init__(self,grid,start,end,diag=False):\n",
    "        self.grid = grid\n",
    "        self.diag = diag\n",
    "\n",
    "        self.start = Node(None, start, grid[start])\n",
    "        self.end = Node(None, end, grid[start])\n",
    "        self.path_val = 0\n",
    "\n",
    "        self.x_min = 0\n",
    "        self.x_max = len(grid)\n",
    "\n",
    "    def cost(self,x):\n",
    "        if self.diag:\n",
    "            dist = lambda x1,x2: sqrt((x1[0]-x2[0])**2 + abs(x[1]-x2[1])**2)\n",
    "        else:\n",
    "            dist = lambda x1,x2: abs(x1[0]-x2[0]) + abs(x1[1]-x2[1])\n",
    "        g = dist(x,self.start)\n",
    "        h = dist(x,self.end)\n",
    "        return g + h, g, h\n",
    "\n",
    "    def neighbors(self, x):\n",
    "        x_nn = []\n",
    "        x_nn.append([x[0]-1, x[1]  ])\n",
    "        x_nn.append([x[0]  , x[1]+1])\n",
    "        x_nn.append([x[0]+1, x[1]  ])\n",
    "        x_nn.append([x[0]  , x[1]-1])\n",
    "        if self.diag:\n",
    "            x_nn.append([x[0]+1, x[1]+1])\n",
    "            x_nn.append([x[0]-1, x[1]+1])\n",
    "            x_nn.append([x[0]+1, x[1]-1])\n",
    "            x_nn.append([x[0]-1, x[1]-1])\n",
    "        x_nn = np.array(x_nn)\n",
    "\n",
    "        # SQUARE ONLY PART HERE\n",
    "        x_nn = np.delete(x_nn,np.where(x_nn<x_min)[0], axis=0)\n",
    "        x_nn = np.delete(x_nn,np.where(x_nn>x_max)[0], axis=0)\n",
    "\n",
    "        return (tuple(l) for l in x_nn) \n",
    "\n",
    "    def find_path(self, start, end):\n",
    "            open_list = [start]\n",
    "            closed_list = []\n",
    "\n",
    "            _, current = min([(n.val, n) for n in open_list])\n",
    "            open_list.remove(current)\n",
    "            closed_list.append(current)\n",
    "\n",
    "            nn_list = self.neighbors(current)\n",
    "            for nn in nn_list:\n",
    "                if nn not in closed_list:\n",
    "                    if nn not in open_list:\n",
    "                        open_list.append(nn)\n",
    "                    \n",
    "\n"
   ]
  },
  {
   "cell_type": "code",
   "execution_count": 46,
   "metadata": {},
   "outputs": [
    {
     "name": "stdout",
     "output_type": "stream",
     "text": [
      "(0, 0)\n",
      "1\n"
     ]
    }
   ],
   "source": [
    "start = (0,0)\n",
    "grid = risk_map\n",
    "open_list = [ (1,0), (0,0), (1,1), (2,2)]\n",
    "x, current = min([(x, grid[x]) for x in open_list])\n",
    "open_list.remove(x)\n",
    "[x for [1,2,3] not in [1,2]]\n"
   ]
  },
  {
   "cell_type": "code",
   "execution_count": 14,
   "metadata": {},
   "outputs": [
    {
     "name": "stdout",
     "output_type": "stream",
     "text": [
      "operations: 86 path length: 19\n",
      "40\n"
     ]
    }
   ],
   "source": [
    "grid = Grid(matrix=risk_map)\n",
    "\n",
    "start = grid.node(0,0)\n",
    "# end = grid.node(risk_map.shape[0]-1,risk_map.shape[1]-1)\n",
    "end = grid.node(len(risk_map)-1,len(risk_map)-1)\n",
    "\n",
    "pfinder = AStarFinder(diagonal_movement=DiagonalMovement.never)\n",
    "path, runs = pfinder.find_path(start, end, grid)\n",
    "\n",
    "print('operations:', runs, 'path length:', len(path))\n",
    "# print(grid.grid_str(path=path, start=start, end=end))\n",
    "\n",
    "sum = 0\n",
    "for p in path:\n",
    "  sum += risk_map[p[1]][p[0]]\n",
    "  # print(p, risk_map[p[1],p[0]])\n",
    "print(sum - risk_map[0][0])\n"
   ]
  },
  {
   "cell_type": "code",
   "execution_count": 5,
   "metadata": {},
   "outputs": [
    {
     "ename": "NameError",
     "evalue": "name 'BiAStarFinder' is not defined",
     "output_type": "error",
     "traceback": [
      "\u001b[0;31m---------------------------------------------------------------------------\u001b[0m",
      "\u001b[0;31mNameError\u001b[0m                                 Traceback (most recent call last)",
      "\u001b[0;32m/var/folders/m0/f8vd87mn0rx0jyhlt0k9j4cr0000gn/T/ipykernel_85384/3414318737.py\u001b[0m in \u001b[0;36m<module>\u001b[0;34m\u001b[0m\n\u001b[1;32m     17\u001b[0m \u001b[0mend\u001b[0m \u001b[0;34m=\u001b[0m \u001b[0mgrid\u001b[0m\u001b[0;34m.\u001b[0m\u001b[0mnode\u001b[0m\u001b[0;34m(\u001b[0m\u001b[0mbig_map\u001b[0m\u001b[0;34m.\u001b[0m\u001b[0mshape\u001b[0m\u001b[0;34m[\u001b[0m\u001b[0;36m0\u001b[0m\u001b[0;34m]\u001b[0m\u001b[0;34m-\u001b[0m\u001b[0;36m1\u001b[0m\u001b[0;34m,\u001b[0m\u001b[0mbig_map\u001b[0m\u001b[0;34m.\u001b[0m\u001b[0mshape\u001b[0m\u001b[0;34m[\u001b[0m\u001b[0;36m1\u001b[0m\u001b[0;34m]\u001b[0m\u001b[0;34m-\u001b[0m\u001b[0;36m1\u001b[0m\u001b[0;34m)\u001b[0m\u001b[0;34m\u001b[0m\u001b[0;34m\u001b[0m\u001b[0m\n\u001b[1;32m     18\u001b[0m \u001b[0;34m\u001b[0m\u001b[0m\n\u001b[0;32m---> 19\u001b[0;31m \u001b[0mfinder\u001b[0m \u001b[0;34m=\u001b[0m \u001b[0mBiAStarFinder\u001b[0m\u001b[0;34m(\u001b[0m\u001b[0mdiagonal_movement\u001b[0m\u001b[0;34m=\u001b[0m\u001b[0mDiagonalMovement\u001b[0m\u001b[0;34m.\u001b[0m\u001b[0mnever\u001b[0m\u001b[0;34m)\u001b[0m\u001b[0;34m\u001b[0m\u001b[0;34m\u001b[0m\u001b[0m\n\u001b[0m\u001b[1;32m     20\u001b[0m \u001b[0mpath\u001b[0m\u001b[0;34m,\u001b[0m \u001b[0mruns\u001b[0m \u001b[0;34m=\u001b[0m \u001b[0mfinder\u001b[0m\u001b[0;34m.\u001b[0m\u001b[0mfind_path\u001b[0m\u001b[0;34m(\u001b[0m\u001b[0mstart\u001b[0m\u001b[0;34m,\u001b[0m \u001b[0mend\u001b[0m\u001b[0;34m,\u001b[0m \u001b[0mgrid\u001b[0m\u001b[0;34m)\u001b[0m\u001b[0;34m\u001b[0m\u001b[0;34m\u001b[0m\u001b[0m\n\u001b[1;32m     21\u001b[0m \u001b[0;34m\u001b[0m\u001b[0m\n",
      "\u001b[0;31mNameError\u001b[0m: name 'BiAStarFinder' is not defined"
     ]
    }
   ],
   "source": [
    "r = 5\n",
    "big_map = np.zeros((risk_map.shape[0]*r,risk_map.shape[1]*r))\n",
    "\n",
    "n = risk_map.shape[0]\n",
    "\n",
    "big_map[0:n,0:n] = risk_map\n",
    "for i in range(1,r):\n",
    "    big_map[0:n,i*n:(i+1)*n] = big_map[0:n,(i-1)*n:i*n]+1\n",
    "    big_map[np.where(big_map>9)] = 1\n",
    "for i in range(1,r):\n",
    "    big_map[i*n:(i+1)*n,0:n*r] = big_map[(i-1)*n:i*n,0:n*r]+1\n",
    "    big_map[np.where(big_map>9)] = 1\n",
    "\n",
    "grid = Grid(matrix=big_map)\n",
    "\n",
    "start = grid.node(0,0)\n",
    "end = grid.node(big_map.shape[0]-1,big_map.shape[1]-1)\n",
    "\n",
    "finder = BiAStarFinder(diagonal_movement=DiagonalMovement.never)\n",
    "path, runs = finder.find_path(start, end, grid)\n",
    "\n",
    "print('operations:', runs, 'path length:', len(path))\n",
    "# print(grid.grid_str(path=path, start=start, end=end))\n",
    "\n",
    "sum = 0\n",
    "for p in path:\n",
    "  sum += big_map[p[1],p[0]]\n",
    "  # print(p, risk_map[p[1],p[0]])\n",
    "print(sum - big_map[0,0])"
   ]
  },
  {
   "cell_type": "code",
   "execution_count": null,
   "metadata": {},
   "outputs": [],
   "source": []
  }
 ],
 "metadata": {
  "interpreter": {
   "hash": "3067ead486e059ec00ffe7555bdb889e6e264a24dc711bf108106cc7baee8d5d"
  },
  "kernelspec": {
   "display_name": "Python 3.7.6 64-bit ('base': conda)",
   "language": "python",
   "name": "python3"
  },
  "language_info": {
   "codemirror_mode": {
    "name": "ipython",
    "version": 3
   },
   "file_extension": ".py",
   "mimetype": "text/x-python",
   "name": "python",
   "nbconvert_exporter": "python",
   "pygments_lexer": "ipython3",
   "version": "3.7.6"
  },
  "orig_nbformat": 4
 },
 "nbformat": 4,
 "nbformat_minor": 2
}
