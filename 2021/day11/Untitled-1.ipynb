{
 "cells": [
  {
   "cell_type": "code",
   "execution_count": 1,
   "metadata": {},
   "outputs": [],
   "source": [
    "import pandas as pd\n",
    "import numpy as np\n",
    "from scipy.spatial import KDTree\n",
    "import time"
   ]
  },
  {
   "cell_type": "code",
   "execution_count": 15,
   "metadata": {},
   "outputs": [
    {
     "data": {
      "text/plain": [
       "numpy.ndarray"
      ]
     },
     "metadata": {},
     "output_type": "display_data"
    },
    {
     "data": {
      "text/plain": [
       "array([0, 0])"
      ]
     },
     "metadata": {},
     "output_type": "display_data"
    },
    {
     "data": {
      "text/plain": [
       "[[array([0, 0]), array([0, 1]), array([1, 0])],\n",
       " [array([4, 5]), array([5, 4]), array([5, 5]), array([5, 6]), array([6, 5])]]"
      ]
     },
     "metadata": {},
     "output_type": "display_data"
    },
    {
     "data": {
      "text/plain": [
       "[[array([0, 0]), array([0, 1]), array([1, 0])],\n",
       " [array([4, 5]), array([5, 4]), array([5, 5]), array([5, 6]), array([6, 5])]]"
      ]
     },
     "metadata": {},
     "output_type": "display_data"
    },
    {
     "name": "stdout",
     "output_type": "stream",
     "text": [
      "---------------------\n"
     ]
    }
   ],
   "source": [
    "# n, m = oct.octoloc.shape\n",
    "n, m = 10,10\n",
    "x, y = np.mgrid[0:n, 0:m]\n",
    "coords = np.c_[x.ravel(), y.ravel()]\n",
    "display(type(coords[0]))\n",
    "display(coords[0])\n",
    "display([list(coords[n]) for n in i])\n",
    "display([list(l) for l in [coords[n] for n in i]])\n",
    "nn = KDTree(coords)\n",
    "\n",
    "print('---------------------')\n",
    "\n",
    "# i = list(nn.query_ball_point([[0,0], [5,5]], 1))\n",
    "# display(coords[0])\n",
    "# display(list[coords[0]])\n",
    "# display([list(coords[n]) for n in i])\n",
    "# display([l for l in [coords[n] for n in i]])\n",
    "# # display([list(l) for l in coords[n] for n in i])\n",
    "# # x_nn = [list(l) for l in coords[n] for n in i]\n",
    "# # x_nn.remove([0,0])\n",
    "# # x_nn\n",
    "\n",
    "# print('---------------------')\n",
    "\n",
    "# i = list(nn.query_ball_point([0,0], 1))\n",
    "# x_nn = [list(l) for l in coords[i]]\n",
    "# display(i)\n",
    "# display([l for l in coords[i]])\n",
    "# display(x_nn)\n",
    "# x_nn.remove([0,0])\n",
    "# x_nn"
   ]
  },
  {
   "cell_type": "code",
   "execution_count": null,
   "metadata": {},
   "outputs": [],
   "source": [
    "n, m = oct.octoloc.shape\n",
    "x, y = np.mgrid[0:n, 0:m]\n",
    "coords = np.c_[x.ravel(), y.ravel()]\n",
    "\n",
    "nn = KDTree(coords)\n",
    "i = nn.query_ball_point([0,0], 1)\n",
    "x_nn = [list(l) for l in coords[i]]\n",
    "x_nn.remove([0,0])\n",
    "x_nn\n",
    "\n",
    "class grid2D():\n",
    "    def __init__(self,grid):\n",
    "        self.n, self.m = grid.shape\n",
    "        x, y = np.mgrid[0:n, 0:m]\n",
    "        self.coords = np.c_[x.ravel(), y.ravel()]\n",
    "        self.tree = KDTree(self.coords)\n",
    "\n",
    "    def neighbors(self, points, r):\n",
    "        i = self.tree.query_ball_point(points, r)\n",
    "\n",
    "def neighbors(x,x_min,x_max):\n",
    "    x_nn = []\n",
    "    x_nn.append([x[0]-1, x[1]  ])\n",
    "    x_nn.append([x[0]-1, x[1]+1])\n",
    "    x_nn.append([x[0]  , x[1]+1])\n",
    "    x_nn.append([x[0]+1, x[1]+1])\n",
    "    x_nn.append([x[0]+1, x[1]  ])\n",
    "    x_nn.append([x[0]+1, x[1]-1])\n",
    "    x_nn.append([x[0]  , x[1]-1])\n",
    "    x_nn.append([x[0]-1, x[1]-1])\n",
    "    x_nn = np.array(x_nn)\n",
    "\n",
    "    x_nn = np.delete(x_nn,np.where(x_nn<x_min)[0], axis=0)\n",
    "    x_nn = np.delete(x_nn,np.where(x_nn>x_max)[0], axis=0)\n",
    "\n",
    "    return (tuple(l) for l in x_nn)"
   ]
  },
  {
   "cell_type": "code",
   "execution_count": null,
   "metadata": {},
   "outputs": [],
   "source": [
    "def input(fname):\n",
    "    data = []\n",
    "    with open(fname) as f:\n",
    "        for line in f:\n",
    "            l =[l.strip() for l in line.split(' ')]\n",
    "            data.append([int(x) for x in l[0]])\n",
    "    data = np.array(data)\n",
    "\n",
    "    return data        \n",
    "\n",
    "class Octopus:\n",
    "    def __init__(self,octoloc):\n",
    "        self.octoloc = octoloc\n",
    "        self.size = self.octoloc.shape[0] * self.octoloc.shape[1]\n",
    "        self._m = len(octoloc)-1\n",
    "        self.iter = 0\n",
    "        self.count = 0\n",
    "        self.sync = False\n",
    "\n",
    "    def flashing(self):\n",
    "        return True if len(np.argwhere(self.octoloc>9)) > 0 else False\n",
    "\n",
    "    def step(self):\n",
    "        self.iter += 1\n",
    "\n",
    "        # Part 1: increase all by 1\n",
    "        self.octoloc += 1\n",
    "\n",
    "        # Part 2: increase flashers nn by 1\n",
    "        while self.flashing():\n",
    "            flashers = np.argwhere(self.octoloc>9)\n",
    "            # set to zero if it flashed\n",
    "            self.octoloc[np.where(self.octoloc>9)] = 0\n",
    "                \n",
    "            for f in flashers:\n",
    "                for x in neighbors(f,0,self._m):\n",
    "                    if (0 < self.octoloc[x]):\n",
    "                        self.octoloc[x] = self.octoloc[x] + 1\n",
    "        \n",
    "        cnt = len(np.where(oct.octoloc==0)[0])\n",
    "        self.sync = True if cnt == self.size else False\n",
    "        self.count += cnt"
   ]
  },
  {
   "cell_type": "code",
   "execution_count": null,
   "metadata": {},
   "outputs": [],
   "source": [
    "# fname = 'test-input.txt'\n",
    "fname = 'input.txt'\n",
    "check = 100\n",
    "\n",
    "oct = Octopus(input(fname))\n",
    "\n",
    "# t0 = time.time()\n",
    "# sync = oct.sync\n",
    "# while not sync:\n",
    "#     oct.step()\n",
    "#     if oct.iter == check:\n",
    "#         print('Step '+str(check)+' flash total: '+str(oct.count))\n",
    "#     sync = oct.sync\n",
    "\n",
    "# print('First sync at: '+str(oct.iter))\n",
    "# print('Elapsed time {:.3e}'.format(time.time()-t0)+' sec')"
   ]
  },
  {
   "cell_type": "code",
   "execution_count": null,
   "metadata": {},
   "outputs": [],
   "source": []
  },
  {
   "cell_type": "code",
   "execution_count": null,
   "metadata": {},
   "outputs": [],
   "source": [
    "oct.octoloc.shape"
   ]
  },
  {
   "cell_type": "code",
   "execution_count": null,
   "metadata": {},
   "outputs": [],
   "source": []
  },
  {
   "cell_type": "code",
   "execution_count": null,
   "metadata": {},
   "outputs": [],
   "source": []
  }
 ],
 "metadata": {
  "interpreter": {
   "hash": "86f40aa846b76392de7bb59569c5c05eb6f3e741ce818a5d9ce89c0e27b7be65"
  },
  "kernelspec": {
   "display_name": "Python 3.9.7 64-bit ('covid': conda)",
   "language": "python",
   "name": "python3"
  },
  "language_info": {
   "codemirror_mode": {
    "name": "ipython",
    "version": 3
   },
   "file_extension": ".py",
   "mimetype": "text/x-python",
   "name": "python",
   "nbconvert_exporter": "python",
   "pygments_lexer": "ipython3",
   "version": "3.7.6"
  },
  "orig_nbformat": 4
 },
 "nbformat": 4,
 "nbformat_minor": 2
}
