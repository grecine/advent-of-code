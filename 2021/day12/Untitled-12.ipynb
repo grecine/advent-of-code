{
 "cells": [
  {
   "cell_type": "code",
   "execution_count": 1,
   "metadata": {},
   "outputs": [],
   "source": [
    "import pandas as pd\n",
    "import numpy as np\n",
    "import time\n",
    "\n",
    "np.set_printoptions(threshold=np.inf)"
   ]
  },
  {
   "cell_type": "code",
   "execution_count": 2,
   "metadata": {},
   "outputs": [],
   "source": [
    "def input(fname):\n",
    "    data = []\n",
    "    with open(fname) as f:\n",
    "        for line in f:\n",
    "            data.append(line.strip())\n",
    "    return data        "
   ]
  },
  {
   "cell_type": "code",
   "execution_count": 90,
   "metadata": {},
   "outputs": [
    {
     "name": "stdout",
     "output_type": "stream",
     "text": [
      "\n",
      "cave_map:\n",
      " {'A': ['start', 'c', 'b', 'end'], 'end': ['A', 'b'], 'd': ['b'], 'b': ['start', 'A', 'd', 'end'], 'c': ['A'], 'start': ['A', 'b']}\n"
     ]
    }
   ],
   "source": [
    "# cave_net = input('test-input.txt')\n",
    "cave_net = input('input.txt')\n",
    "\n",
    "cave_net = ['start-A','start-b','A-c','A-b','b-d','A-end','b-end',]\n",
    "\n",
    "cave_net = np.array([c.split('-') for c in cave_net])\n",
    "\n",
    "# print('input:\\n',cave_net)\n",
    "\n",
    "caves = []\n",
    "for j in range(cave_net.shape[1]):\n",
    "    caves.extend(list(set(cave_net[:,j])))\n",
    "caves = list(set(caves))\n",
    "\n",
    "cave_map = {}\n",
    "for cave in caves:  \n",
    "    ii = np.where(cave_net==cave)\n",
    "    cave_map[cave] = list(cave_net[ii[0],abs(ii[1])-1])\n",
    "\n",
    "print('\\ncave_map:\\n',cave_map)"
   ]
  },
  {
   "cell_type": "code",
   "execution_count": 92,
   "metadata": {},
   "outputs": [
    {
     "name": "stdout",
     "output_type": "stream",
     "text": [
      "10\n"
     ]
    }
   ],
   "source": [
    "small_caves = [c for c in caves if (str.islower(c) and len(c)<3)]\n",
    "# print(small_caves)\n",
    "\n",
    "visitedList = [[]]\n",
    "small_cave_visits = 1\n",
    "\n",
    "def go(vertex, visited):\n",
    "    if str.isupper(vertex):\n",
    "        res = True\n",
    "    elif str.islower(vertex):\n",
    "        lim = 2\n",
    "        for sc in small_caves:\n",
    "            if visited.count(sc) == small_cave_visits:\n",
    "                lim = 1\n",
    "        lim = 1 if (vertex=='start' or vertex=='end')  else lim\n",
    "        res = True if visited.count(vertex) < lim else False\n",
    "    return res\n",
    "\n",
    "def depthFirst(graph, currentVertex, visited):\n",
    "    visited.append(currentVertex)\n",
    "    for vertex in graph[currentVertex]:\n",
    "        if go(vertex, visited):\n",
    "            depthFirst(graph, vertex, visited.copy())\n",
    "    visitedList.append(visited)\n",
    "\n",
    "depthFirst(cave_map, 'start', [])\n",
    "\n",
    "visitedList.remove([])\n",
    "paths = []\n",
    "for path in visitedList:\n",
    "    if path[-1] == 'end':\n",
    "        paths.append(path)\n",
    "        # print(path)\n",
    "\n",
    "print(len(paths))"
   ]
  },
  {
   "cell_type": "code",
   "execution_count": null,
   "metadata": {},
   "outputs": [],
   "source": []
  }
 ],
 "metadata": {
  "interpreter": {
   "hash": "86f40aa846b76392de7bb59569c5c05eb6f3e741ce818a5d9ce89c0e27b7be65"
  },
  "kernelspec": {
   "display_name": "Python 3.9.7 64-bit ('covid': conda)",
   "language": "python",
   "name": "python3"
  },
  "language_info": {
   "codemirror_mode": {
    "name": "ipython",
    "version": 3
   },
   "file_extension": ".py",
   "mimetype": "text/x-python",
   "name": "python",
   "nbconvert_exporter": "python",
   "pygments_lexer": "ipython3",
   "version": "3.9.7"
  },
  "orig_nbformat": 4
 },
 "nbformat": 4,
 "nbformat_minor": 2
}
