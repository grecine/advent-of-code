{
 "cells": [
  {
   "cell_type": "code",
   "execution_count": 1,
   "metadata": {},
   "outputs": [],
   "source": [
    "import pandas as pd"
   ]
  },
  {
   "cell_type": "code",
   "execution_count": 2,
   "metadata": {},
   "outputs": [],
   "source": [
    "decoder = {\n",
    "    'a': ([0,2,3,5,6,7,8,9], [1,4]),\n",
    "    'b': ([0,4,5,6,8,9], [1,2,3,7]),\n",
    "    'c': ([0,1,2,3,4,7,8,9], [5,6]),\n",
    "    'd': ([2,3,4,5,6,8,9], [0,1,7]),\n",
    "    'e': ([0,2,6,8], [1,3,4,5,7,9]),\n",
    "    'f': ([0,1,3,4,5,6,7,8,9], [2]),\n",
    "    'g': ([0,2,3,5,6,8,9], [1,4,7]),\n",
    "}\n",
    "\n",
    "count_map = {\n",
    "    2: [1],\n",
    "    3: [7],\n",
    "    4: [4],\n",
    "    5: [2,3,5],\n",
    "    6: [0,6,9],\n",
    "    7: [8],\n",
    "}\n",
    "\n",
    "def decode(s, num):\n",
    "    return s[s.str.len()==num].tolist()"
   ]
  },
  {
   "cell_type": "code",
   "execution_count": 16,
   "metadata": {},
   "outputs": [],
   "source": [
    "def calc_map(s):\n",
    "\n",
    "    map = {}\n",
    "\n",
    "    # s = pd.Series(['acedgfb', 'cdfbe', 'gcdfa', 'fbcad', 'dab', 'cefabd', 'cdfgeb', 'eafb', 'cagedb', 'ab'])\n",
    "\n",
    "    for num in count_map:\n",
    "        for i in count_map[num]:\n",
    "            map[i] = decode(s, num)\n",
    "\n",
    "    # find 0\n",
    "    for i in map:\n",
    "        if len(map[i][0])==5:\n",
    "            l4 = map[i]\n",
    "        elif len(map[i][0])==6:\n",
    "            l5 = map[i]\n",
    "    for x in l5:\n",
    "        s = set(l4[0])&set(l4[1])&set(l4[2])&set(x)\n",
    "        if len(s)==2:\n",
    "            map[0] = [x]\n",
    "            map[6].remove(x)\n",
    "            map[9].remove(x)\n",
    "\n",
    "    # find 6 & 9\n",
    "    if len(set(map[6][0]) & set(map[1][0])) == 1:\n",
    "        map[6] = [map[6][0]]\n",
    "        map[9].remove(map[6][0])\n",
    "    else:\n",
    "        map[6] = [map[6][1]]\n",
    "        map[9].remove(map[6][0])\n",
    "\n",
    "    # find 2\n",
    "    for x in map[2]:\n",
    "        if len(set(x)&set(map[9][0]))==4:\n",
    "            map[2] = [x]\n",
    "            map[5].remove(x)\n",
    "            map[3].remove(x)\n",
    "\n",
    "    # find 5 & 3\n",
    "    if len(set(map[5][0]) & set(map[1][0])) == 1:\n",
    "        map[5] = [map[5][0]]\n",
    "        map[3].remove(map[5][0])\n",
    "    else:\n",
    "        map[5] = [map[5][1]]\n",
    "        map[3].remove(map[5][0])\n",
    "\n",
    "    rev_map = {''.join(sorted(map[i][0])):str(i) for i in map}\n",
    "    \n",
    "    return rev_map"
   ]
  },
  {
   "cell_type": "code",
   "execution_count": 22,
   "metadata": {},
   "outputs": [],
   "source": [
    "# fname = 'test-input.txt'\n",
    "fname = 'input.txt'\n",
    "\n",
    "df = pd.read_csv(fname, sep=' ', header=None)\n",
    "signals = df.loc[:,0:9]\n",
    "outputs = df.loc[:,11:]\n",
    "\n",
    "# display(signals)\n",
    "# display(outputs)"
   ]
  },
  {
   "cell_type": "code",
   "execution_count": 23,
   "metadata": {},
   "outputs": [
    {
     "data": {
      "text/plain": [
       "272"
      ]
     },
     "execution_count": 23,
     "metadata": {},
     "output_type": "execute_result"
    }
   ],
   "source": [
    "nums = [2,3,4,7]\n",
    "outputs.apply(lambda col: len(col[col.str.len().isin(nums)]), axis=0).sum()"
   ]
  },
  {
   "cell_type": "code",
   "execution_count": 24,
   "metadata": {},
   "outputs": [
    {
     "name": "stdout",
     "output_type": "stream",
     "text": [
      "1007675\n"
     ]
    }
   ],
   "source": [
    "sum = 0\n",
    "for idx in signals.index:\n",
    "    rev_map = calc_map(signals.iloc[idx])\n",
    "    \n",
    "    val =''\n",
    "    for o in outputs.iloc[idx]:\n",
    "        val += rev_map[''.join(sorted(o))]\n",
    "\n",
    "    sum += int(val)\n",
    "    \n",
    "print(sum)"
   ]
  },
  {
   "cell_type": "code",
   "execution_count": null,
   "metadata": {},
   "outputs": [],
   "source": []
  }
 ],
 "metadata": {
  "kernelspec": {
   "display_name": "Python 3",
   "language": "python",
   "name": "python3"
  },
  "language_info": {
   "codemirror_mode": {
    "name": "ipython",
    "version": 3
   },
   "file_extension": ".py",
   "mimetype": "text/x-python",
   "name": "python",
   "nbconvert_exporter": "python",
   "pygments_lexer": "ipython3",
   "version": "3.7.6"
  }
 },
 "nbformat": 4,
 "nbformat_minor": 4
}
