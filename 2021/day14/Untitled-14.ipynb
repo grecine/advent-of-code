{
 "cells": [
  {
   "cell_type": "code",
   "execution_count": 1,
   "metadata": {},
   "outputs": [],
   "source": [
    "import pandas as pd\n",
    "import numpy as np\n",
    "import time\n",
    "\n",
    "np.set_printoptions(threshold=np.inf)"
   ]
  },
  {
   "cell_type": "code",
   "execution_count": 2,
   "metadata": {},
   "outputs": [],
   "source": [
    "def input(fname):\n",
    "    data = []\n",
    "    with open(fname) as f:\n",
    "        for line in f:\n",
    "            data.append(line.strip())\n",
    "    return data        "
   ]
  },
  {
   "cell_type": "code",
   "execution_count": 3,
   "metadata": {},
   "outputs": [],
   "source": [
    "# # METHOD 1 -- 66 Years for Part 2\n",
    "# rules = input('test-input.txt')\n",
    "# # rules = input('input.txt')\n",
    "\n",
    "# seed = rules[0]\n",
    "# rules = {d.split(' ')[0]: d.split(' ')[2] for d in rules[2:]}\n",
    "\n",
    "# t = [time.time()]\n",
    "# for n in range(40):\n",
    "#     seed = ''.join([seed[i] + rules[seed[i]+seed[i+1]]  for i in range(len(seed)-1)])+seed[-1]\n",
    "#     t.append(time.time())\n",
    "#     print(n+1,len(seed), '{:.3e}'.format(t[n+1]-t[n]),(t[n+1]-t[n])/(t[n]-t[n-1]))\n",
    "\n",
    "# counts = {}\n",
    "# min_ele = [None, np.inf]\n",
    "# max_ele = [None, 0]\n",
    "# for l in list(set(seeds[-1])):\n",
    "#     print(l,seeds[-1].count(l))  \n",
    "#     counts[l] = seeds[-1].count(l)\n",
    "#     if counts[l] < min_ele[1]:\n",
    "#         min_ele[0] = l\n",
    "#         min_ele[1] = counts[l]\n",
    "#     if counts[l] > max_ele[1]:\n",
    "#         max_ele[0] = l\n",
    "#         max_ele[1] = counts[l]\n",
    "# print(min_ele, max_ele)\n",
    "# print(max_ele[1]-min_ele[1])\n",
    "        \n",
    "\n"
   ]
  },
  {
   "cell_type": "code",
   "execution_count": 129,
   "metadata": {},
   "outputs": [
    {
     "name": "stdout",
     "output_type": "stream",
     "text": [
      "2875665202438.0\n",
      "0.014465093612670898  sec\n"
     ]
    }
   ],
   "source": [
    "# METHOD 2 -- hopefully less than 66 Years for Part 2\n",
    "# rules = input('test-input.txt')\n",
    "rules = input('input.txt')\n",
    "\n",
    "t0 = time.time()\n",
    "seed = rules[0]\n",
    "rules = {d.split(' ')[0]: d.split(' ')[2] for d in rules[2:]}\n",
    "\n",
    "pairs = [seed[i]+seed[i+1] for i in range(len(seed)-1)]\n",
    "\n",
    "def count_ele(pairs):\n",
    "    elem_count = {e: 0 for e in rules.values()}\n",
    "    for pair in pairs:\n",
    "        elem_count[pair[0][0]] += 0.5*pair[1]\n",
    "        elem_count[pair[0][1]] += 0.5*pair[1]\n",
    "    \n",
    "    elem_count[seed[0]] += 0.5\n",
    "    elem_count[seed[-1]] += 0.5\n",
    "    return elem_count\n",
    "\n",
    "pairs = [(p, pairs.count(p)) for p in list(set(pairs))]\n",
    "\n",
    "for i in range(40):\n",
    "    new_pairs = []\n",
    "    for pair in pairs:\n",
    "        insertion = rules[pair[0]]\n",
    "        new_pairs.extend([(pair[0][0]+insertion, pair[1]), (insertion+pair[0][1], pair[1])]) \n",
    "\n",
    "    counts = {p: 0 for p in set(np.array(new_pairs)[:,0])}\n",
    "    for n in new_pairs:\n",
    "        counts[n[0]] += n[1]\n",
    "    pairs = [(p, counts[p]) for p in counts]\n",
    "\n",
    "    elem_count = count_ele(pairs)\n",
    "\n",
    "min_ele = min(elem_count, key=elem_count.get)\n",
    "max_ele = max(elem_count, key=elem_count.get)\n",
    "\n",
    "# print(elem_count)\n",
    "# print(min_ele, max_ele)\n",
    "print(elem_count[max_ele] - elem_count[min_ele])\n",
    "print(time.time()-t0,' sec')\n"
   ]
  },
  {
   "cell_type": "code",
   "execution_count": 37,
   "metadata": {},
   "outputs": [
    {
     "data": {
      "text/plain": [
       "['NN', 'NC', 'CB']"
      ]
     },
     "execution_count": 37,
     "metadata": {},
     "output_type": "execute_result"
    }
   ],
   "source": [
    "pairs"
   ]
  },
  {
   "cell_type": "code",
   "execution_count": 70,
   "metadata": {},
   "outputs": [
    {
     "name": "stdout",
     "output_type": "stream",
     "text": [
      "4\n"
     ]
    }
   ],
   "source": [
    "for i in range(40):\n",
    "    n=4\n",
    "print(n)"
   ]
  },
  {
   "cell_type": "code",
   "execution_count": null,
   "metadata": {},
   "outputs": [],
   "source": []
  }
 ],
 "metadata": {
  "interpreter": {
   "hash": "86f40aa846b76392de7bb59569c5c05eb6f3e741ce818a5d9ce89c0e27b7be65"
  },
  "kernelspec": {
   "display_name": "Python 3.9.7 64-bit ('covid': conda)",
   "language": "python",
   "name": "python3"
  },
  "language_info": {
   "codemirror_mode": {
    "name": "ipython",
    "version": 3
   },
   "file_extension": ".py",
   "mimetype": "text/x-python",
   "name": "python",
   "nbconvert_exporter": "python",
   "pygments_lexer": "ipython3",
   "version": "3.7.6"
  },
  "orig_nbformat": 4
 },
 "nbformat": 4,
 "nbformat_minor": 2
}
