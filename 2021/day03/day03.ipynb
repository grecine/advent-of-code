{
 "cells": [
  {
   "cell_type": "code",
   "execution_count": 1,
   "metadata": {},
   "outputs": [],
   "source": [
    "import numpy as np\n",
    "import os\n",
    "import time\n",
    "\n",
    "np.set_printoptions(threshold=np.inf)\n"
   ]
  },
  {
   "cell_type": "code",
   "execution_count": 55,
   "metadata": {},
   "outputs": [],
   "source": [
    "def input(fname):\n",
    "    fname = os.path.join(fname)\n",
    "\n",
    "    data = []\n",
    "    with open(fname) as f:\n",
    "        for line in f:\n",
    "            data.append(line.strip())\n",
    "    return data  "
   ]
  },
  {
   "cell_type": "code",
   "execution_count": 60,
   "metadata": {},
   "outputs": [],
   "source": [
    "# data = input('input.txt')\n",
    "data = input('test-input.txt')\n",
    "data = np.array([[int(i) for i in d] for d in data])"
   ]
  },
  {
   "cell_type": "code",
   "execution_count": 59,
   "metadata": {},
   "outputs": [
    {
     "name": "stdout",
     "output_type": "stream",
     "text": [
      "3959450\n"
     ]
    }
   ],
   "source": [
    "gamma = 0\n",
    "epsilon = 0\n",
    "data.shape\n",
    "for i in range(data.shape[1]):\n",
    "    ones = list(data[:,i]).count(1)\n",
    "    zeros = list(data[:,i]).count(0)\n",
    "    if ones >= zeros:\n",
    "        gamma += 2**(data.shape[1]-i-1)\n",
    "    else:\n",
    "        epsilon += 2**(data.shape[1]-i-1)\n",
    "print(gamma*epsilon)"
   ]
  },
  {
   "cell_type": "code",
   "execution_count": 5,
   "metadata": {},
   "outputs": [
    {
     "data": {
      "text/plain": [
       "0"
      ]
     },
     "execution_count": 5,
     "metadata": {},
     "output_type": "execute_result"
    }
   ],
   "source": []
  },
  {
   "cell_type": "code",
   "execution_count": null,
   "metadata": {},
   "outputs": [],
   "source": []
  }
 ],
 "metadata": {
  "interpreter": {
   "hash": "86f40aa846b76392de7bb59569c5c05eb6f3e741ce818a5d9ce89c0e27b7be65"
  },
  "kernelspec": {
   "display_name": "Python 3.9.7 64-bit ('covid': conda)",
   "language": "python",
   "name": "python3"
  },
  "language_info": {
   "codemirror_mode": {
    "name": "ipython",
    "version": 3
   },
   "file_extension": ".py",
   "mimetype": "text/x-python",
   "name": "python",
   "nbconvert_exporter": "python",
   "pygments_lexer": "ipython3",
   "version": "3.7.6"
  },
  "orig_nbformat": 4
 },
 "nbformat": 4,
 "nbformat_minor": 2
}
