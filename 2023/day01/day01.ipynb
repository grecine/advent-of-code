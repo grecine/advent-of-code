{
 "cells": [
  {
   "cell_type": "code",
   "execution_count": 16,
   "metadata": {
    "ExecuteTime": {
     "end_time": "2023-12-06T02:43:17.603329Z",
     "start_time": "2023-12-06T02:43:17.538173Z"
    }
   },
   "outputs": [],
   "source": [
    "import numpy as np\n",
    "import os\n",
    "import time\n",
    "import re\n",
    "\n",
    "np.set_printoptions(threshold=np.inf)"
   ]
  },
  {
   "cell_type": "code",
   "execution_count": 17,
   "metadata": {
    "ExecuteTime": {
     "end_time": "2023-12-06T02:43:17.668014Z",
     "start_time": "2023-12-06T02:43:17.660178Z"
    }
   },
   "outputs": [],
   "source": [
    "def input(fname):\n",
    "    fname = os.path.join(fname)\n",
    "\n",
    "    data = []\n",
    "    with open(fname) as f:\n",
    "        for line in f:\n",
    "            data.append(line.strip())\n",
    "    return data  "
   ]
  },
  {
   "cell_type": "code",
   "execution_count": 18,
   "metadata": {
    "ExecuteTime": {
     "end_time": "2023-12-06T02:43:17.888034Z",
     "start_time": "2023-12-06T02:43:17.867477Z"
    }
   },
   "outputs": [],
   "source": [
    "data = input('input.txt')\n",
    "# data = input('test-input.txt')"
   ]
  },
  {
   "cell_type": "code",
   "execution_count": 19,
   "metadata": {
    "ExecuteTime": {
     "end_time": "2023-12-06T02:43:18.124987Z",
     "start_time": "2023-12-06T02:43:18.115892Z"
    }
   },
   "outputs": [],
   "source": [
    "def get_first_last(text):\n",
    "    first = re.search(r\"\\d\", text)\n",
    "    last = re.search(r\"\\d\", text[::-1])\n",
    "    \n",
    "    first = first if first is None else first.start()\n",
    "    last = last if last is None else last.start()+1\n",
    "    \n",
    "    return first, last"
   ]
  },
  {
   "cell_type": "code",
   "execution_count": 20,
   "metadata": {
    "ExecuteTime": {
     "end_time": "2023-12-06T02:43:18.416724Z",
     "start_time": "2023-12-06T02:43:18.411224Z"
    }
   },
   "outputs": [
    {
     "name": "stdout",
     "output_type": "stream",
     "text": [
      "53974\n"
     ]
    }
   ],
   "source": [
    "tot = 0\n",
    "for s in data:\n",
    "    f, l = get_first_last(s)\n",
    "    tot += int(s[f]+s[-l])\n",
    "print(tot)"
   ]
  },
  {
   "cell_type": "code",
   "execution_count": 21,
   "metadata": {
    "ExecuteTime": {
     "end_time": "2023-12-06T02:43:19.246266Z",
     "start_time": "2023-12-06T02:43:19.166433Z"
    }
   },
   "outputs": [
    {
     "name": "stdout",
     "output_type": "stream",
     "text": [
      "52968\n"
     ]
    }
   ],
   "source": [
    "matches = {\n",
    "    'one': '1',\n",
    "    'two': '2',\n",
    "    'three': '3',\n",
    "    'four': '4',\n",
    "    'five': '5',\n",
    "    'six': '6',\n",
    "    'seven': '7',\n",
    "    'eight': '8',\n",
    "    'nine': '9',\n",
    "}\n",
    "\n",
    "tot = 0\n",
    "for s in data:\n",
    "    x = [([i.start() for i in re.finditer(x, s)], x) for x in matches]\n",
    "    x = [(min(n[0]), n[1]) for n in x if n[0]!=[]]\n",
    "    f_loc = (1E10, None)\n",
    "    for n in x:\n",
    "        f_loc = (n[0], n[1]) if n[0] < f_loc[0] else f_loc\n",
    "\n",
    "    x = [([i.start() for i in re.finditer(x[::-1], s[::-1])], x) for x in matches]\n",
    "    x = [(min(n[0]), n[1]) for n in x if n[0]!=[]]\n",
    "    l_loc = (1E10, None)\n",
    "    for n in x:\n",
    "        l_loc = (n[0], n[1]) if n[0] < f_loc[0] else l_loc\n",
    "\n",
    "    f, l = get_first_last(s)\n",
    "\n",
    "    if f is None:\n",
    "        first = matches[f_loc[1]]\n",
    "        last = matches[l_loc[1]]\n",
    "    else:\n",
    "        first = matches[f_loc[1]] if f_loc[0] < f else s[f]\n",
    "        last = matches[l_loc[1]] if l_loc[0] < l else s[-l]\n",
    "\n",
    "    tot += int(first+last)\n",
    "\n",
    "print(tot)"
   ]
  },
  {
   "cell_type": "code",
   "execution_count": null,
   "metadata": {},
   "outputs": [],
   "source": []
  }
 ],
 "metadata": {
  "interpreter": {
   "hash": "3067ead486e059ec00ffe7555bdb889e6e264a24dc711bf108106cc7baee8d5d"
  },
  "kernelspec": {
   "display_name": "Python 3 (ipykernel)",
   "language": "python",
   "name": "python3"
  },
  "language_info": {
   "codemirror_mode": {
    "name": "ipython",
    "version": 3
   },
   "file_extension": ".py",
   "mimetype": "text/x-python",
   "name": "python",
   "nbconvert_exporter": "python",
   "pygments_lexer": "ipython3",
   "version": "3.9.7"
  },
  "varInspector": {
   "cols": {
    "lenName": 16,
    "lenType": 16,
    "lenVar": 40
   },
   "kernels_config": {
    "python": {
     "delete_cmd_postfix": "",
     "delete_cmd_prefix": "del ",
     "library": "var_list.py",
     "varRefreshCmd": "print(var_dic_list())"
    },
    "r": {
     "delete_cmd_postfix": ") ",
     "delete_cmd_prefix": "rm(",
     "library": "var_list.r",
     "varRefreshCmd": "cat(var_dic_list()) "
    }
   },
   "types_to_exclude": [
    "module",
    "function",
    "builtin_function_or_method",
    "instance",
    "_Feature"
   ],
   "window_display": false
  }
 },
 "nbformat": 4,
 "nbformat_minor": 2
}
