{
 "cells": [
  {
   "cell_type": "code",
   "execution_count": 1,
   "metadata": {
    "ExecuteTime": {
     "end_time": "2022-12-07T23:01:40.634831Z",
     "start_time": "2022-12-07T23:01:40.632231Z"
    }
   },
   "outputs": [],
   "source": [
    "import numpy as np\n",
    "import os\n",
    "import time\n",
    "\n",
    "np.set_printoptions(threshold=np.inf)"
   ]
  },
  {
   "cell_type": "code",
   "execution_count": 2,
   "metadata": {
    "ExecuteTime": {
     "end_time": "2022-12-07T23:01:40.994859Z",
     "start_time": "2022-12-07T23:01:40.991666Z"
    }
   },
   "outputs": [],
   "source": [
    "def input(fname):\n",
    "    fname = os.path.join(fname)\n",
    "\n",
    "    data = []\n",
    "    with open(fname) as f:\n",
    "        for line in f:\n",
    "            data.append(line.strip())\n",
    "    return data  "
   ]
  },
  {
   "cell_type": "code",
   "execution_count": 5,
   "metadata": {
    "ExecuteTime": {
     "end_time": "2022-12-07T23:02:19.180234Z",
     "start_time": "2022-12-07T23:02:19.177854Z"
    }
   },
   "outputs": [],
   "source": [
    "# data = input('input.txt')\n",
    "data = input('test-input.txt')"
   ]
  },
  {
   "cell_type": "code",
   "execution_count": 6,
   "metadata": {
    "ExecuteTime": {
     "end_time": "2022-12-07T23:02:19.554839Z",
     "start_time": "2022-12-07T23:02:19.551149Z"
    }
   },
   "outputs": [
    {
     "data": {
      "text/plain": [
       "['$ cd /',\n",
       " '$ ls',\n",
       " 'dir a',\n",
       " '14848514 b.txt',\n",
       " '8504156 c.dat',\n",
       " 'dir d',\n",
       " '$ cd a',\n",
       " '$ ls',\n",
       " 'dir e',\n",
       " '29116 f',\n",
       " '2557 g',\n",
       " '62596 h.lst',\n",
       " '$ cd e',\n",
       " '$ ls',\n",
       " '584 i',\n",
       " '$ cd ..',\n",
       " '$ cd ..',\n",
       " '$ cd d',\n",
       " '$ ls',\n",
       " '4060174 j',\n",
       " '8033020 d.log',\n",
       " '5626152 d.ext',\n",
       " '7214296 k']"
      ]
     },
     "execution_count": 6,
     "metadata": {},
     "output_type": "execute_result"
    }
   ],
   "source": [
    "data"
   ]
  },
  {
   "cell_type": "code",
   "execution_count": 25,
   "metadata": {
    "ExecuteTime": {
     "end_time": "2022-12-07T23:32:21.017364Z",
     "start_time": "2022-12-07T23:32:21.012720Z"
    }
   },
   "outputs": [],
   "source": [
    "class node:\n",
    "    def __init__(self, name, parent, n_type=None, size=None):\n",
    "        self._name = name\n",
    "        self._parent = parent\n",
    "        self._type = n_type\n",
    "        self._size = size\n",
    "        \n",
    "        if parent != \"/\":\n",
    "            parent.add_child(self)\n",
    "        \n",
    "        self._children = []\n",
    "        \n",
    "    def add_child(self, child):\n",
    "        self._children.append(child)\n",
    "        \n",
    "    @property\n",
    "    def name(self):\n",
    "        return self._name\n",
    "    \n",
    "    @property\n",
    "    def parent(self):\n",
    "        return self._parent\n",
    "    \n",
    "    @property\n",
    "    def type(self):\n",
    "        return self._type\n",
    "    \n",
    "    @property\n",
    "    def size(self):\n",
    "        return 0 if self._type == 'dir' else self._size\n",
    "    \n",
    "    @property\n",
    "    def children(self):\n",
    "        return self._children\n"
   ]
  },
  {
   "cell_type": "code",
   "execution_count": 30,
   "metadata": {
    "ExecuteTime": {
     "end_time": "2022-12-07T23:40:06.905351Z",
     "start_time": "2022-12-07T23:40:06.900180Z"
    }
   },
   "outputs": [
    {
     "name": "stdout",
     "output_type": "stream",
     "text": [
      "input cd /\n",
      "input ls \n",
      "output - dir a\n",
      "output - file b.txt 14848514\n",
      "output - file c.dat 8504156\n",
      "output - dir d\n",
      "input cd a\n",
      "input ls \n",
      "output - dir e\n",
      "output - file f 29116\n",
      "output - file g 2557\n",
      "output - file h.lst 62596\n",
      "input cd e\n",
      "input ls \n",
      "output - file i 584\n",
      "input cd ..\n",
      "input cd ..\n",
      "input cd d\n",
      "input ls \n",
      "output - file j 4060174\n",
      "output - file d.log 8033020\n",
      "output - file d.ext 5626152\n",
      "output - file k 7214296\n"
     ]
    }
   ],
   "source": [
    "path = []\n",
    "for line in data:\n",
    "    if line[0] == '$':\n",
    "        inp = line[2:4]\n",
    "        arg = line[5:]\n",
    "        print('input',inp,arg)\n",
    "        if inp = 'cd':\n",
    "            path.pop() if arg == '..' else path.append(arg)\n",
    "        \n",
    "    elif line[0:3] == 'dir':\n",
    "        dname = line[4]\n",
    "        print('output - dir',dname)\n",
    "    else:\n",
    "        size = line.split(' ')[0]\n",
    "        fname = line.split(' ')[1]\n",
    "        print('output - file',fname,size)\n",
    "    "
   ]
  },
  {
   "cell_type": "code",
   "execution_count": 33,
   "metadata": {
    "ExecuteTime": {
     "end_time": "2022-12-07T23:44:09.309261Z",
     "start_time": "2022-12-07T23:44:09.305639Z"
    }
   },
   "outputs": [],
   "source": [
    "parent = '/'\n",
    "a = node('a', parent, 'dir')\n",
    "b = node('b.txt', parent, 'file', '14848514')\n",
    "c = node('c.dat', parent, 'file', '8504156')\n",
    "d = node('d', parent, 'dir')\n",
    "\n",
    "parent = a\n",
    "e = node('e', parent, 'dir')\n",
    "f = node('f', parent, 'file', '14848514')\n",
    "g = node('g', parent, 'file', '8504156')\n",
    "h = node('h', parent, 'dir')"
   ]
  },
  {
   "cell_type": "code",
   "execution_count": 35,
   "metadata": {
    "ExecuteTime": {
     "end_time": "2022-12-07T23:44:41.108617Z",
     "start_time": "2022-12-07T23:44:41.100768Z"
    }
   },
   "outputs": [
    {
     "data": {
      "text/plain": [
       "['e', 'f', 'g', 'h']"
      ]
     },
     "execution_count": 35,
     "metadata": {},
     "output_type": "execute_result"
    }
   ],
   "source": [
    "[c.name for c in a.children]"
   ]
  },
  {
   "cell_type": "code",
   "execution_count": 39,
   "metadata": {
    "ExecuteTime": {
     "end_time": "2022-12-07T23:47:55.000489Z",
     "start_time": "2022-12-07T23:47:54.997435Z"
    }
   },
   "outputs": [
    {
     "name": "stdout",
     "output_type": "stream",
     "text": [
      "['a', 'b']\n",
      "['a']\n",
      "['a', 'x']\n"
     ]
    }
   ],
   "source": [
    "l = ['a']\n",
    "l.append('b')\n",
    "print(l)\n",
    "l.pop()\n",
    "print(l)\n",
    "l.pop if False else l.append('x')\n",
    "print(l)"
   ]
  },
  {
   "cell_type": "code",
   "execution_count": null,
   "metadata": {},
   "outputs": [],
   "source": []
  }
 ],
 "metadata": {
  "interpreter": {
   "hash": "3067ead486e059ec00ffe7555bdb889e6e264a24dc711bf108106cc7baee8d5d"
  },
  "kernelspec": {
   "display_name": "Python 3 (ipykernel)",
   "language": "python",
   "name": "python3"
  },
  "language_info": {
   "codemirror_mode": {
    "name": "ipython",
    "version": 3
   },
   "file_extension": ".py",
   "mimetype": "text/x-python",
   "name": "python",
   "nbconvert_exporter": "python",
   "pygments_lexer": "ipython3",
   "version": "3.9.7"
  },
  "varInspector": {
   "cols": {
    "lenName": 16,
    "lenType": 16,
    "lenVar": 40
   },
   "kernels_config": {
    "python": {
     "delete_cmd_postfix": "",
     "delete_cmd_prefix": "del ",
     "library": "var_list.py",
     "varRefreshCmd": "print(var_dic_list())"
    },
    "r": {
     "delete_cmd_postfix": ") ",
     "delete_cmd_prefix": "rm(",
     "library": "var_list.r",
     "varRefreshCmd": "cat(var_dic_list()) "
    }
   },
   "types_to_exclude": [
    "module",
    "function",
    "builtin_function_or_method",
    "instance",
    "_Feature"
   ],
   "window_display": false
  }
 },
 "nbformat": 4,
 "nbformat_minor": 2
}
